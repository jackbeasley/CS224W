{
 "cells": [
  {
   "cell_type": "code",
   "execution_count": 1,
   "metadata": {},
   "outputs": [],
   "source": [
    "from methods import *\n",
    "from mag_api import mag_get_title\n",
    "import snap"
   ]
  },
  {
   "cell_type": "markdown",
   "metadata": {},
   "source": [
    "### Evaluation Papers"
   ]
  },
  {
   "cell_type": "code",
   "execution_count": 2,
   "metadata": {},
   "outputs": [],
   "source": [
    "test1 = (2761896323, set([2154851992, 2366141641, 1888005072, 1488435683, 2125031621]))"
   ]
  },
  {
   "cell_type": "code",
   "execution_count": 3,
   "metadata": {},
   "outputs": [],
   "source": [
    "test2 = (2052309590, set([1989645219, 2112328321, 2157586876, 2069231651, 2178455563]))"
   ]
  },
  {
   "cell_type": "markdown",
   "metadata": {},
   "source": [
    "### Evaluate"
   ]
  },
  {
   "cell_type": "code",
   "execution_count": 4,
   "metadata": {},
   "outputs": [],
   "source": [
    "combinations = [[2, True, False], [2, True, True], [3, True, False]]\n",
    "def evaluate(test):\n",
    "    paper, refs = test\n",
    "    for bfs_level, follow_out, follow_in in combinations:\n",
    "            print \"=\"*50\n",
    "            print mag_get_title(paper)\n",
    "            print bfs_level, follow_out, follow_in\n",
    "            results, Graph = get_all_results(paper, bfs_level, follow_out, follow_in)\n",
    "            for key in results:\n",
    "                print key, \":\", sum([1 for node in results[key] if node in refs])"
   ]
  },
  {
   "cell_type": "code",
   "execution_count": 5,
   "metadata": {},
   "outputs": [
    {
     "name": "stdout",
     "output_type": "stream",
     "text": [
      "==================================================\n",
      "network embedding as matrix factorization unifying deepwalk line pte and node2vec (2018)\n",
      "2 True False\n",
      "{\"sourcePaperID\":2761896323,\"numberBFSLevels\":2,\"followedOutLinks\":true,\"followedInLinks\":false,\"outputEdgeList\":\"2761896323.txt\",\"numFoundEdges\":1571,\"numFoundNodes\":1155}\n",
      "MPA (Node Betweenness) : 1\n",
      "MPA (PageRank) : 1\n",
      "MPA (SPC) : 1\n",
      "MPA (Edge Betweenness) : 1\n",
      "==================================================\n",
      "network embedding as matrix factorization unifying deepwalk line pte and node2vec (2018)\n",
      "2 True True\n",
      "{\"sourcePaperID\":2761896323,\"numberBFSLevels\":2,\"followedOutLinks\":true,\"followedInLinks\":true,\"outputEdgeList\":\"2761896323.txt\",\"numFoundEdges\":55686,\"numFoundNodes\":47035}\n",
      "MPA (Node Betweenness) : 0\n",
      "MPA (PageRank) : 0\n",
      "MPA (SPC) : 0\n",
      "MPA (Edge Betweenness) : 0\n",
      "==================================================\n",
      "network embedding as matrix factorization unifying deepwalk line pte and node2vec (2018)\n",
      "3 True False\n",
      "{\"sourcePaperID\":2761896323,\"numberBFSLevels\":3,\"followedOutLinks\":true,\"followedInLinks\":false,\"outputEdgeList\":\"2761896323.txt\",\"numFoundEdges\":34040,\"numFoundNodes\":17866}\n",
      "MPA (Node Betweenness) : 0\n",
      "MPA (PageRank) : 0\n",
      "MPA (SPC) : 0\n",
      "MPA (Edge Betweenness) : 0\n"
     ]
    }
   ],
   "source": [
    "evaluate(test1)"
   ]
  },
  {
   "cell_type": "code",
   "execution_count": 6,
   "metadata": {},
   "outputs": [
    {
     "name": "stdout",
     "output_type": "stream",
     "text": [
      "==================================================\n",
      "values are a good thing in conservation biology (2007)\n",
      "2 True False\n",
      "{\"sourcePaperID\":2052309590,\"numberBFSLevels\":2,\"followedOutLinks\":true,\"followedInLinks\":false,\"outputEdgeList\":\"2052309590.txt\",\"numFoundEdges\":171,\"numFoundNodes\":164}\n",
      "MPA (Node Betweenness) : 1\n",
      "MPA (PageRank) : 1\n",
      "MPA (SPC) : 0\n",
      "MPA (Edge Betweenness) : 0\n",
      "==================================================\n",
      "values are a good thing in conservation biology (2007)\n",
      "2 True True\n",
      "{\"sourcePaperID\":2052309590,\"numberBFSLevels\":2,\"followedOutLinks\":true,\"followedInLinks\":true,\"outputEdgeList\":\"2052309590.txt\",\"numFoundEdges\":6430,\"numFoundNodes\":5696}\n",
      "MPA (Node Betweenness) : 1\n",
      "MPA (PageRank) : 0\n",
      "MPA (SPC) : 0\n",
      "MPA (Edge Betweenness) : 0\n",
      "==================================================\n",
      "values are a good thing in conservation biology (2007)\n",
      "3 True False\n",
      "{\"sourcePaperID\":2052309590,\"numberBFSLevels\":3,\"followedOutLinks\":true,\"followedInLinks\":false,\"outputEdgeList\":\"2052309590.txt\",\"numFoundEdges\":3460,\"numFoundNodes\":3065}\n",
      "MPA (Node Betweenness) : 1\n",
      "MPA (PageRank) : 0\n",
      "MPA (SPC) : 0\n",
      "MPA (Edge Betweenness) : 0\n"
     ]
    }
   ],
   "source": [
    "evaluate(test2)"
   ]
  }
 ],
 "metadata": {
  "kernelspec": {
   "display_name": "Python 2",
   "language": "python",
   "name": "python2"
  },
  "language_info": {
   "codemirror_mode": {
    "name": "ipython",
    "version": 2
   },
   "file_extension": ".py",
   "mimetype": "text/x-python",
   "name": "python",
   "nbconvert_exporter": "python",
   "pygments_lexer": "ipython2",
   "version": "2.7.13"
  }
 },
 "nbformat": 4,
 "nbformat_minor": 2
}
