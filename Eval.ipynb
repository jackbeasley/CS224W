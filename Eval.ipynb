{
 "cells": [
  {
   "cell_type": "code",
   "execution_count": 1,
   "metadata": {},
   "outputs": [],
   "source": [
    "from methods import get_all_results\n",
    "import snap"
   ]
  },
  {
   "cell_type": "code",
   "execution_count": null,
   "metadata": {},
   "outputs": [],
   "source": [
    "results, Graph = get_all_results(2761896323, 4, True, False)"
   ]
  },
  {
   "cell_type": "markdown",
   "metadata": {},
   "source": [
    "### Evaluation Papers"
   ]
  },
  {
   "cell_type": "code",
   "execution_count": 2,
   "metadata": {},
   "outputs": [],
   "source": [
    "test1 = (2761896323, set([2154851992, 2366141641, 1888005072, 1488435683, 2125031621]))"
   ]
  },
  {
   "cell_type": "markdown",
   "metadata": {},
   "source": [
    "### Evaluate"
   ]
  },
  {
   "cell_type": "code",
   "execution_count": 3,
   "metadata": {},
   "outputs": [],
   "source": [
    "def evaluate(test):\n",
    "    paper, refs = test\n",
    "    for bfs_level in range(1, 5):\n",
    "        for follow_in in [True, False]:\n",
    "            print \"=\"*50\n",
    "            results, Graph = get_all_results(paper, bfs_level, True, follow_in)\n",
    "            print \"Clustering Coeff:\", snap.GetClustCf (Graph, 1)\n",
    "            for key in results:\n",
    "                print key, \":\", sum([1 for node in results[key] if node in refs])"
   ]
  },
  {
   "cell_type": "code",
   "execution_count": null,
   "metadata": {},
   "outputs": [
    {
     "name": "stdout",
     "output_type": "stream",
     "text": [
      "==================================================\n",
      "Starting from 2761896323 and searcher for 1 levels (follow out: true, follow in: true)\n",
      "Found 61 nodes, 60 edges and output edge list to 2761896323.txt\n",
      "Clustering Coeff: 0.0\n",
      "PageRank : 2\n",
      "Authorities : 2\n",
      "Citations : 1\n",
      "MPA (SPC) : 0\n",
      "MPA (Edge Betweenness) : 0\n",
      "Hubs : 0\n",
      "Node Betweenness : 0\n",
      "==================================================\n",
      "Starting from 2761896323 and searcher for 1 levels (follow out: true, follow in: false)\n",
      "Found 48 nodes, 47 edges and output edge list to 2761896323.txt\n",
      "Clustering Coeff: 0.0\n",
      "PageRank : 0\n",
      "Authorities : 0\n",
      "Citations : 1\n",
      "MPA (SPC) : 0\n",
      "MPA (Edge Betweenness) : 0\n",
      "Hubs : 0\n",
      "Node Betweenness : 1\n",
      "==================================================\n",
      "Starting from 2761896323 and searcher for 2 levels (follow out: true, follow in: true)\n",
      "Found 47035 nodes, 55686 edges and output edge list to 2761896323.txt\n",
      "Clustering Coeff: 0.0\n",
      "PageRank : 1\n",
      "Authorities : 0\n",
      "Citations : 1\n",
      "MPA (SPC) : 0\n",
      "MPA (Edge Betweenness) : 0\n",
      "Hubs : 0\n",
      "Node Betweenness : 1\n",
      "==================================================\n",
      "Starting from 2761896323 and searcher for 2 levels (follow out: true, follow in: false)\n",
      "Found 1155 nodes, 1571 edges and output edge list to 2761896323.txt\n",
      "Clustering Coeff: 0.0\n",
      "PageRank : 2\n",
      "Authorities : 0\n",
      "Citations : 3\n",
      "MPA (SPC) : 2\n",
      "MPA (Edge Betweenness) : 0\n",
      "Hubs : 1\n",
      "Node Betweenness : 1\n",
      "==================================================\n",
      "Starting from 2761896323 and searcher for 3 levels (follow out: true, follow in: true)\n",
      "Found 1502215 nodes, 3700113 edges and output edge list to 2761896323.txt\n"
     ]
    }
   ],
   "source": [
    "evaluate(test1)"
   ]
  },
  {
   "cell_type": "code",
   "execution_count": null,
   "metadata": {},
   "outputs": [],
   "source": []
  }
 ],
 "metadata": {
  "kernelspec": {
   "display_name": "Python 2",
   "language": "python",
   "name": "python2"
  },
  "language_info": {
   "codemirror_mode": {
    "name": "ipython",
    "version": 2
   },
   "file_extension": ".py",
   "mimetype": "text/x-python",
   "name": "python",
   "nbconvert_exporter": "python",
   "pygments_lexer": "ipython2",
   "version": "2.7.13"
  }
 },
 "nbformat": 4,
 "nbformat_minor": 2
}
