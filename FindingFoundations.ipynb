{
 "cells": [
  {
   "cell_type": "markdown",
   "metadata": {},
   "source": [
    "# Finding Foundations: Tracing the Lineages of Academic Knowledge\n",
    "Jack Beasley (jbeasley), Kristine Guo (kguo98)  \n",
    "CS 224W Fall 2018  \n",
    "  \n",
    "Implementation of methods and evaluation."
   ]
  },
  {
   "cell_type": "code",
   "execution_count": 1,
   "metadata": {},
   "outputs": [],
   "source": [
    "import snap\n",
    "from IPython.display import Image\n",
    "from collections import defaultdict\n",
    "from bfs_graph import translate, create_snap_graph, get_bfs_graph\n",
    "from mag_api import mag_evaluate, mag_get_title, mag_get_date"
   ]
  },
  {
   "cell_type": "markdown",
   "metadata": {},
   "source": [
    "## Create BFS Subgraph\n",
    "Retrieve the graph produced by a BFS from the given start paper."
   ]
  },
  {
   "cell_type": "code",
   "execution_count": null,
   "metadata": {},
   "outputs": [],
   "source": [
    "G, mag_to_snap = get_bfs_graph(2366141641, 2, True, False)\n",
    "snap_to_mag = {v: k for k, v in mag_to_snap.iteritems()}"
   ]
  },
  {
   "cell_type": "code",
   "execution_count": null,
   "metadata": {},
   "outputs": [],
   "source": [
    "# Sanity check for correct nodes and ID translation.\n",
    "for node in G.Nodes():\n",
    "    print node.GetId(), \"\\t\", snap_to_mag[node.GetId()]"
   ]
  },
  {
   "cell_type": "code",
   "execution_count": null,
   "metadata": {},
   "outputs": [],
   "source": [
    "snap.DrawGViz(G, snap.gvlDot, \"2366141641.png\", \"BFS Graph for 2366141641 (Out)\")\n",
    "Image(filename='2366141641.png')"
   ]
  },
  {
   "cell_type": "code",
   "execution_count": null,
   "metadata": {},
   "outputs": [],
   "source": [
    "Graph, mag_to_snap_full = get_bfs_graph(633000, 3, True, True)\n",
    "snap_to_mag_full = {v: k for k, v in mag_to_snap_full.iteritems()}"
   ]
  },
  {
   "cell_type": "code",
   "execution_count": null,
   "metadata": {},
   "outputs": [],
   "source": [
    "# Sanity check\n",
    "start_node = Graph.GetNI(mag_to_snap_full[633000])\n",
    "print(\"633000 has {} references in full BFS graph\".format(start_node.GetOutDeg()))\n",
    "print(\"633000 has {} citations in full BFS graph\".format(start_node.GetInDeg()))"
   ]
  },
  {
   "cell_type": "markdown",
   "metadata": {},
   "source": [
    "## MAG Request\n",
    "Example of MAG API request."
   ]
  },
  {
   "cell_type": "code",
   "execution_count": null,
   "metadata": {},
   "outputs": [],
   "source": [
    "mag_get_title(2366141641)"
   ]
  },
  {
   "cell_type": "markdown",
   "metadata": {},
   "source": [
    "## Search Path Count\n",
    "Implementation of SPC based on Batagelj (2003)."
   ]
  },
  {
   "cell_type": "code",
   "execution_count": 40,
   "metadata": {},
   "outputs": [],
   "source": [
    "def get_in_degrees(Graph):\n",
    "    InDegV = snap.TIntPrV()\n",
    "    snap.GetNodeInDegV(Graph, InDegV)\n",
    "    return {item.GetVal1() : item.GetVal2() for item in InDegV}\n",
    "\n",
    "def get_out_degrees(Graph):\n",
    "    OutDegV = snap.TIntPrV()\n",
    "    snap.GetNodeOutDegV(Graph, OutDegV)\n",
    "    return {item.GetVal1() : item.GetVal2() for item in OutDegV}"
   ]
  },
  {
   "cell_type": "code",
   "execution_count": 41,
   "metadata": {},
   "outputs": [],
   "source": [
    "def compute_n_minus(start, in_degrees, Graph):\n",
    "    n_minus = defaultdict(int)\n",
    "    in_deg = in_degrees.copy()\n",
    "    while len(start) > 0:\n",
    "        node = start.pop()\n",
    "        if in_degrees[node] == 0:\n",
    "            n_minus[node] = 1\n",
    "        else:\n",
    "            total = 0\n",
    "            for citation in Graph.GetNI(node).GetInEdges():\n",
    "                total += n_minus[citation]\n",
    "            n_minus[node] = total\n",
    "\n",
    "        for ref in Graph.GetNI(node).GetOutEdges():\n",
    "            in_deg[ref] -= 1\n",
    "            if in_deg[ref] == 0:\n",
    "                start.add(ref)\n",
    "    return n_minus"
   ]
  },
  {
   "cell_type": "code",
   "execution_count": 42,
   "metadata": {},
   "outputs": [],
   "source": [
    "def compute_n_plus(start, out_degrees, Graph):\n",
    "    n_plus = defaultdict(int)\n",
    "    out_deg = out_degrees.copy()\n",
    "    while len(start) > 0:\n",
    "        node = start.pop()\n",
    "        if out_degrees[node] == 0:\n",
    "            n_plus[node] = 1\n",
    "        else:\n",
    "            total = 0\n",
    "            for reference in Graph.GetNI(node).GetOutEdges():\n",
    "                total += n_plus[reference]\n",
    "            n_plus[node] = total\n",
    "\n",
    "        for citation in Graph.GetNI(node).GetInEdges():\n",
    "            out_deg[citation] -= 1\n",
    "            if out_deg[citation] == 0:\n",
    "                start.add(citation)\n",
    "    return n_plus"
   ]
  },
  {
   "cell_type": "code",
   "execution_count": 43,
   "metadata": {},
   "outputs": [],
   "source": [
    "def spc(Graph):\n",
    "    in_degrees = get_in_degrees(Graph)\n",
    "    out_degrees = get_out_degrees(Graph)\n",
    "    \n",
    "    n_minus = compute_n_minus(set([node for node in in_degrees if in_degrees[node] == 0]), in_degrees, Graph)\n",
    "    n_plus = compute_n_plus(set([node for node in out_degrees if out_degrees[node] == 0]), out_degrees, Graph)\n",
    "    \n",
    "    spc_counts = defaultdict(int)\n",
    "    for edge in Graph.Edges():\n",
    "        src = edge.GetSrcNId()\n",
    "        dst = edge.GetDstNId()\n",
    "        spc_counts[(src, dst)] = n_minus[src] * n_plus[dst]\n",
    "    return spc_counts"
   ]
  },
  {
   "cell_type": "markdown",
   "metadata": {},
   "source": [
    "## Edge Betweenness\n",
    "Call SNAP betweenness function to get edge betweenness of every edge."
   ]
  },
  {
   "cell_type": "code",
   "execution_count": 44,
   "metadata": {},
   "outputs": [],
   "source": [
    "def edge_betweenness(Graph):\n",
    "    Nodes = snap.TIntFltH()\n",
    "    Edges = snap.TIntPrFltH()\n",
    "    snap.GetBetweennessCentr(Graph, Nodes, Edges, 1.0, True)\n",
    "    return {(edge.GetVal1(), edge.GetVal2()): Edges[edge] for edge in Edges}"
   ]
  },
  {
   "cell_type": "markdown",
   "metadata": {},
   "source": [
    "## Main Path Analysis\n",
    "Methods for constructing main paths based on different measures."
   ]
  },
  {
   "cell_type": "code",
   "execution_count": 45,
   "metadata": {},
   "outputs": [],
   "source": [
    "def mpa(start_node, translate, counts, Graph):\n",
    "    '''MPA using given counts as edge weights.'''\n",
    "    node = start_node\n",
    "    nodes = set([start_node])\n",
    "    print mag_get_title(translate[node])\n",
    "    while Graph.GetNI(node).GetOutDeg() != 0:\n",
    "        next_node = -1\n",
    "        largest = -1\n",
    "        for neighbor in Graph.GetNI(node).GetOutEdges():\n",
    "            if counts[(node, neighbor)] > largest and neighbor not in nodes:\n",
    "                largest = counts[(node, neighbor)]\n",
    "                next_node = neighbor\n",
    "        if next_node < 0:\n",
    "            break\n",
    "        node = next_node\n",
    "        nodes.add(next_node)\n",
    "        print \"-\", largest, \"->\", mag_get_title(translate[node])"
   ]
  },
  {
   "cell_type": "code",
   "execution_count": 46,
   "metadata": {},
   "outputs": [],
   "source": [
    "def mpa_spc(start_node, translate, Graph):\n",
    "    '''MPA using SPC as traversal counts.'''\n",
    "    mpa(start_node, translate, spc(Graph), Graph)"
   ]
  },
  {
   "cell_type": "code",
   "execution_count": 47,
   "metadata": {},
   "outputs": [],
   "source": [
    "def mpa_bw(start_node, translate, Graph):\n",
    "    '''MPA using edge betweenness as traversal counts.'''\n",
    "    mpa(start_node, translate, edge_betweenness(Graph), Graph)"
   ]
  },
  {
   "cell_type": "code",
   "execution_count": 48,
   "metadata": {},
   "outputs": [],
   "source": [
    "def mpa_val(start_node, translate, values, Graph):\n",
    "    '''Construct main path by greedily choosing node with highest value.'''\n",
    "    node = start_node\n",
    "    nodes = set([start_node])\n",
    "    print mag_get_title(translate[node])\n",
    "    while Graph.GetNI(node).GetOutDeg() != 0:\n",
    "        next_node = -1\n",
    "        largest = -1\n",
    "        for neighbor in Graph.GetNI(node).GetOutEdges():\n",
    "            if values[neighbor] > largest and neighbor not in nodes:\n",
    "                largest = values[neighbor]\n",
    "                next_node = neighbor\n",
    "                nodes.add(neighbor)\n",
    "        if next_node < 0:\n",
    "            break\n",
    "        node = next_node\n",
    "        print \"-\", largest, \"->\", mag_get_title(translate[node])"
   ]
  },
  {
   "cell_type": "markdown",
   "metadata": {},
   "source": [
    "## Validate Graph\n",
    "Mitigate cyclic effects by identifying bidirectional edges and removing the edge from the older paper to the newer paper."
   ]
  },
  {
   "cell_type": "code",
   "execution_count": 49,
   "metadata": {},
   "outputs": [],
   "source": [
    "def validate_graph(Graph, snap_to_mag):\n",
    "    bad_edges = set()\n",
    "    for edge in Graph.Edges():\n",
    "        src_nid = edge.GetSrcNId()\n",
    "        dst_nid = edge.GetDstNId()\n",
    "        if Graph.IsEdge(dst_nid, src_nid):\n",
    "            first = min(src_nid, dst_nid)\n",
    "            second = max(src_nid, dst_nid)\n",
    "            bad_edges.add((first, second))\n",
    "    for bad_edge in bad_edges:\n",
    "        date1 = mag_get_date(snap_to_mag[bad_edge[0]])\n",
    "        date2 = mag_get_date(snap_to_mag[bad_edge[1]])\n",
    "        if date1 < date2:\n",
    "            print \"Deleting edge (%d, %d)\" % (snap_to_mag[bad_edge[1]], snap_to_mag[bad_edge[0]])\n",
    "            Graph.DelEdge(bad_edge[1], bad_edge[0])\n",
    "        else:\n",
    "            print \"Deleting edge (%d, %d)\" % (snap_to_mag[bad_edge[0]], snap_to_mag[bad_edge[1]])\n",
    "            Graph.DelEdge(bad_edge[0], bad_edge[1])"
   ]
  },
  {
   "cell_type": "markdown",
   "metadata": {},
   "source": [
    "## Baseline Methods\n",
    "Using SNAP functions to get PageRank and node betweenness values for every node in given graph."
   ]
  },
  {
   "cell_type": "markdown",
   "metadata": {},
   "source": [
    "### PageRank"
   ]
  },
  {
   "cell_type": "code",
   "execution_count": 50,
   "metadata": {},
   "outputs": [],
   "source": [
    "def pagerank(paper, snap_to_mag, Graph):\n",
    "    PRankH = snap.TIntFltH()\n",
    "    snap.GetPageRank(Graph, PRankH)\n",
    "    PRankH.SortByDat(False)\n",
    "    return PRankH"
   ]
  },
  {
   "cell_type": "markdown",
   "metadata": {},
   "source": [
    "### Node Betweenness"
   ]
  },
  {
   "cell_type": "code",
   "execution_count": 56,
   "metadata": {},
   "outputs": [],
   "source": [
    "def node_betweenness(snap_to_mag, Graph):\n",
    "    Nodes = snap.TIntFltH()\n",
    "    Edges = snap.TIntPrFltH()\n",
    "    snap.GetBetweennessCentr(Graph, Nodes, Edges, 1.0, True)\n",
    "    return Nodes"
   ]
  },
  {
   "cell_type": "markdown",
   "metadata": {},
   "source": [
    "## Compare Results Function\n",
    "Convenience function to print out results for all evaluated methods."
   ]
  },
  {
   "cell_type": "code",
   "execution_count": 52,
   "metadata": {},
   "outputs": [],
   "source": [
    "def compare_results(paper, levels=2, follow_out=True, follow_in=False):\n",
    "    Graph, mag_to_snap = get_bfs_graph(paper, levels, follow_out, follow_in)\n",
    "    snap_to_mag = {v: k for k, v in mag_to_snap.iteritems()}\n",
    "    validate_graph(Graph, snap_to_mag)\n",
    "    pr = pagerank(mag_to_snap[paper], snap_to_mag, Graph)\n",
    "    nb = node_betweenness(snap_to_mag, Graph)\n",
    "    \n",
    "    print '='*10\n",
    "    print \"MPA (SPC) RESULTS:\"\n",
    "    mpa_spc(mag_to_snap[paper], snap_to_mag, Graph)\n",
    "    print '='*10\n",
    "    print \"MPA (BETWEENNESS) RESULTS:\"\n",
    "    mpa_bw(mag_to_snap[paper], snap_to_mag, Graph)\n",
    "    print '='*10\n",
    "    print \"PAGERANK RESULTS:\"\n",
    "    mpa_pr(mag_to_snap[paper], snap_to_mag, pr, Graph)\n",
    "    print '='*10\n",
    "    print \"NODE BETWEENNESS RESULTS:\"\n",
    "    mpa_pr(mag_to_snap[paper], snap_to_mag, nb, Graph)"
   ]
  },
  {
   "cell_type": "markdown",
   "metadata": {},
   "source": [
    "## RESULTS\n",
    "All generated results."
   ]
  },
  {
   "cell_type": "markdown",
   "metadata": {},
   "source": [
    "### Node2Vec"
   ]
  },
  {
   "cell_type": "code",
   "execution_count": 53,
   "metadata": {
    "scrolled": true
   },
   "outputs": [
    {
     "name": "stdout",
     "output_type": "stream",
     "text": [
      "{\"sourcePaperID\":2366141641,\"numberBFSLevels\":2,\"followedOutLinks\":true,\"followedInLinks\":false,\"outputEdgeList\":\"2366141641.txt\",\"numFoundEdges\":1684,\"numFoundNodes\":1395}\n",
      "==========\n",
      "MPA (SPC) RESULTS:\n",
      "node2vec scalable feature learning for networks (2016)\n",
      "- 2230 -> grarep learning graph representations with global structural information (2015)\n",
      "- 1010 -> line large scale information network embedding (2015)\n",
      "- 1336 -> deepwalk online learning of social representations (2014)\n",
      "- 1710 -> representation learning a review and new perspectives (2013)\n",
      "- 198 -> a global geometric framework for nonlinear dimensionality reduction (2000)\n",
      "- 23 -> independent component analysis a new concept (1994)\n",
      "==========\n",
      "MPA (BETWEENNESS) RESULTS:\n",
      "node2vec scalable feature learning for networks (2016)\n",
      "- 425.366666667 -> community detection in graphs (2010)\n",
      "- 3.0 -> evolution of networks (2002)\n",
      "==========\n",
      "PAGERANK RESULTS:\n",
      "node2vec scalable feature learning for networks (2016)\n",
      "- 0.000923760984197 -> nonlinear dimensionality reduction by locally linear embedding (2000)\n",
      "- 0.000802570092072 -> learning the parts of objects by non negative matrix factorization (1999)\n",
      "==========\n",
      "NODE BETWEENNESS RESULTS:\n",
      "node2vec scalable feature learning for networks (2016)\n",
      "- 916.508333333 -> deepwalk online learning of social representations (2014)\n",
      "- 882.7 -> representation learning a review and new perspectives (2013)\n",
      "- 96.6666666667 -> a global geometric framework for nonlinear dimensionality reduction (2000)\n",
      "- 0.0 -> independent component analysis a new concept (1994)\n"
     ]
    }
   ],
   "source": [
    "compare_results(2366141641, 2, True, False)"
   ]
  },
  {
   "cell_type": "code",
   "execution_count": 54,
   "metadata": {
    "scrolled": true
   },
   "outputs": [
    {
     "name": "stdout",
     "output_type": "stream",
     "text": [
      "{\"sourcePaperID\":2366141641,\"numberBFSLevels\":2,\"followedOutLinks\":true,\"followedInLinks\":true,\"outputEdgeList\":\"2366141641.txt\",\"numFoundEdges\":68407,\"numFoundNodes\":45710}\n",
      "Deleting edge (2808923352, 2796096336)\n",
      "Deleting edge (2127048411, 2155369095)\n",
      "Deleting edge (1989524890, 2127048411)\n",
      "Deleting edge (2110620844, 2127048411)\n",
      "Deleting edge (2163922914, 2106439909)\n",
      "Deleting edge (2584995636, 2595947069)\n",
      "Deleting edge (2593560573, 1683668173)\n",
      "Deleting edge (2754629507, 2765574772)\n",
      "Deleting edge (2127048411, 1942910215)\n",
      "Deleting edge (2127048411, 2146591355)\n",
      "Deleting edge (2759045585, 2789220419)\n",
      "Deleting edge (2700550412, 2614812929)\n",
      "Deleting edge (1967022297, 2127048411)\n",
      "Deleting edge (2127048411, 2098873466)\n",
      "Deleting edge (2808923352, 2809376420)\n",
      "Deleting edge (2107569009, 1996816151)\n",
      "Deleting edge (2141599568, 1614298861)\n",
      "Deleting edge (2008209917, 2127048411)\n",
      "Deleting edge (2066459332, 2144799688)\n",
      "Deleting edge (2558460151, 2558748708)\n",
      "Deleting edge (1557055049, 2135230723)\n",
      "Deleting edge (2163922914, 2013035813)\n",
      "Deleting edge (2614634292, 2163922914)\n",
      "Deleting edge (2746012317, 2626137579)\n",
      "Deleting edge (2163922914, 1811734137)\n",
      "Deleting edge (2782733358, 2785662987)\n",
      "Deleting edge (2127048411, 2149274953)\n",
      "Deleting edge (2767045141, 2624431344)\n",
      "==========\n",
      "MPA (SPC) RESULTS:\n",
      "node2vec scalable feature learning for networks (2016)\n",
      "- 0 -> community detection in graphs (2010)\n",
      "- 0 -> cooperative game theory approaches for network partitioning (1977)\n",
      "==========\n",
      "MPA (BETWEENNESS) RESULTS:\n",
      "node2vec scalable feature learning for networks (2016)\n",
      "- 294248.201438 -> community detection in graphs (2010)\n",
      "- 94711.802381 -> the principal components analysis of a graph and its relationships to spectral clustering (2004)\n",
      "- 88308.802381 -> laplacian eigenmaps and spectral techniques for embedding and clustering (2001)\n",
      "- 125532.981547 -> a global geometric framework for nonlinear dimensionality reduction (2000)\n",
      "- 27777.0 -> sparse population coding of faces in the inferotemporal cortex (1992)\n",
      "==========\n",
      "PAGERANK RESULTS:\n",
      "node2vec scalable feature learning for networks (2016)\n",
      "- 0.0468562501651 -> nonlinear dimensionality reduction by locally linear embedding (2000)\n",
      "- 0.00472783006997 -> gtm the generative topographic mapping (1998)\n",
      "==========\n",
      "NODE BETWEENNESS RESULTS:\n",
      "node2vec scalable feature learning for networks (2016)\n",
      "- 1738308.32646 -> community detection in graphs (2010)\n",
      "- 44242.6061299 -> random walk computation of similarities between nodes of a graph with application to collaborative recommendation (2007)\n",
      "- 109734.317105 -> laplacian eigenmaps and spectral techniques for embedding and clustering (2001)\n",
      "- 278700.366414 -> a global geometric framework for nonlinear dimensionality reduction (2000)\n",
      "- 0.0 -> sparse population coding of faces in the inferotemporal cortex (1992)\n"
     ]
    }
   ],
   "source": [
    "compare_results(2366141641, 2, True, True)"
   ]
  },
  {
   "cell_type": "code",
   "execution_count": 57,
   "metadata": {
    "scrolled": true
   },
   "outputs": [
    {
     "name": "stdout",
     "output_type": "stream",
     "text": [
      "{\"sourcePaperID\":2366141641,\"numberBFSLevels\":3,\"followedOutLinks\":true,\"followedInLinks\":false,\"outputEdgeList\":\"2366141641.txt\",\"numFoundEdges\":38148,\"numFoundNodes\":19854}\n",
      "Deleting edge (2137253512, 2605441573)\n",
      "Deleting edge (2069153192, 2170344111)\n",
      "Deleting edge (1525961042, 1793121960)\n",
      "Deleting edge (2614634292, 2163922914)\n",
      "Deleting edge (2127048411, 2146591355)\n",
      "Deleting edge (2008209917, 2044988896)\n",
      "Deleting edge (2050239729, 2068015060)\n",
      "Deleting edge (2069153192, 2117831564)\n",
      "Deleting edge (2127048411, 2149274953)\n",
      "Deleting edge (1967022297, 2127048411)\n",
      "Deleting edge (2106004777, 2072128103)\n",
      "Deleting edge (2250968750, 2152722485)\n",
      "Deleting edge (2107569009, 1996816151)\n",
      "Deleting edge (2072128103, 2168345951)\n",
      "Deleting edge (2109715166, 2057885377)\n",
      "Deleting edge (2137253512, 2136693028)\n",
      "Deleting edge (2146672645, 2124486835)\n",
      "Deleting edge (2127048411, 2098873466)\n",
      "Deleting edge (2156740722, 2136922672)\n",
      "Deleting edge (2156740722, 2116825644)\n",
      "Deleting edge (2163922914, 1811734137)\n",
      "Deleting edge (2111002549, 2146591355)\n",
      "Deleting edge (2072128103, 2296073425)\n",
      "Deleting edge (2098873466, 1942910215)\n",
      "Deleting edge (2072128103, 2025768430)\n",
      "Deleting edge (1557055049, 2135230723)\n",
      "Deleting edge (2145038566, 2159291644)\n",
      "Deleting edge (2137253512, 2101705355)\n",
      "Deleting edge (1996816151, 2140536181)\n",
      "Deleting edge (2008209917, 1942910215)\n",
      "Deleting edge (2140833774, 2072128103)\n",
      "Deleting edge (1994906459, 2003289302)\n",
      "Deleting edge (2141599568, 1614298861)\n",
      "Deleting edge (2000560314, 2118608338)\n",
      "Deleting edge (2163922914, 2013035813)\n",
      "Deleting edge (2097308346, 1511160855)\n",
      "Deleting edge (2091202730, 2019009079)\n",
      "Deleting edge (2072128103, 2187089797)\n",
      "Deleting edge (1806891645, 2616180702)\n",
      "Deleting edge (2066459332, 2144799688)\n",
      "Deleting edge (1617641394, 2125315567)\n",
      "Deleting edge (2127048411, 2155369095)\n",
      "Deleting edge (2030811966, 2113651538)\n",
      "Deleting edge (2152971731, 1970871468)\n",
      "Deleting edge (2121647436, 2177287823)\n",
      "Deleting edge (2022704179, 2139694940)\n",
      "Deleting edge (193851967, 2099939455)\n",
      "Deleting edge (2163922914, 2106439909)\n",
      "Deleting edge (2008209917, 2127048411)\n",
      "Deleting edge (1989524890, 2127048411)\n",
      "Deleting edge (2131494463, 1525961042)\n",
      "Deleting edge (2613634265, 2110798204)\n",
      "Deleting edge (2110620844, 2127048411)\n",
      "Deleting edge (2147768505, 1993882792)\n",
      "Deleting edge (2099206369, 2138180870)\n",
      "Deleting edge (2726858191, 2146591355)\n",
      "Deleting edge (2127048411, 1942910215)\n",
      "==========\n",
      "MPA (SPC) RESULTS:\n",
      "node2vec scalable feature learning for networks (2016)\n",
      "- 47981516 -> a large scale evaluation of computational protein function prediction (2013)\n",
      "- 9726880 -> analysis of protein function and its prediction from amino acid sequence (2011)\n",
      "- 4728639 -> annotation error in public databases misannotation of molecular function in enzyme superfamilies (2009)\n",
      "- 23327730 -> protein function prediction the power of multiplicity (2009)\n",
      "- 37266360 -> network based prediction of protein function (2007)\n",
      "- 45492255 -> cfinder locating cliques and overlapping modules in biological networks (2006)\n",
      "- 0 -> detecting community structure in networks (2004)\n",
      "- 0 -> community structure in social and biological networks (2002)\n",
      "- 0 -> on power law relationships of the internet topology (1999)\n",
      "- 0 -> spectra of graphs (1980)\n",
      "==========\n",
      "MPA (BETWEENNESS) RESULTS:\n",
      "node2vec scalable feature learning for networks (2016)\n",
      "- 4155.49329748 -> community detection in graphs (2010)\n",
      "- 24965.2016564 -> microscopic evolution of social networks (2008)\n",
      "- 44896.5005263 -> relational learning via latent social dimensions (2009)\n",
      "- 12906.4597495 -> using ghost edges for classification in sparsely labeled networks (2008)\n",
      "- 8813.23553912 -> semi supervised learning literature survey (2006)\n",
      "- 21276.6831037 -> self taught learning transfer learning from unlabeled data (2007)\n",
      "- 30048.9324647 -> reducing the dimensionality of data with neural networks (2006)\n",
      "- 43581.1119416 -> a fast learning algorithm for deep belief nets (2006)\n",
      "- 78640.2321303 -> justifying and generalizing contrastive divergence (2009)\n",
      "- 42019.0563853 -> semantic hashing (2009)\n",
      "- 63145.5016725 -> rcv1 a new benchmark collection for text categorization research (2004)\n",
      "- 72607.8561615 -> machine learning in automated text categorization (2002)\n",
      "- 13861.4563503 -> enhanced hypertext categorization using hyperlinks (1998)\n",
      "- 1791.00104683 -> on the foundations of relaxation labeling processes (1987)\n",
      "- 236.487409082 -> improving consistency and reducing ambiguity in stochastic labeling an optimization approach (1981)\n",
      "==========\n",
      "PAGERANK RESULTS:\n",
      "node2vec scalable feature learning for networks (2016)\n",
      "- 0.000176843387009 -> nonlinear dimensionality reduction by locally linear embedding (2000)\n",
      "- 9.17835021411e-05 -> dimension reduction by local principal component analysis (1997)\n",
      "- 7.8316644563e-05 -> replicator neural networks for universal optimal source coding (1995)\n",
      "- 8.34090976955e-05 -> the wake sleep algorithm for unsupervised neural networks (1995)\n",
      "==========\n",
      "NODE BETWEENNESS RESULTS:\n",
      "node2vec scalable feature learning for networks (2016)\n",
      "- 113780.167418 -> community detection in graphs (2010)\n",
      "- 140122.9357 -> the structure and function of complex networks (2003)\n",
      "- 74498.8013066 -> statistical mechanics of complex networks (2001)\n",
      "- 19639.3191384 -> evolution of the social network of scientific collaborations (2002)\n",
      "- 12761.0501167 -> error and attack tolerance of complex networks (2000)\n",
      "- 8109.96314886 -> simple rules yield complex food webs (2000)\n",
      "- 0.0 -> the seasonal dynamics of the chesapeake bay ecosystem (1989)\n"
     ]
    }
   ],
   "source": [
    "compare_results(2366141641, 3, True, False)"
   ]
  },
  {
   "cell_type": "markdown",
   "metadata": {},
   "source": [
    "### Values Are a Good Thing in Conservation Biology"
   ]
  },
  {
   "cell_type": "code",
   "execution_count": 58,
   "metadata": {
    "scrolled": true
   },
   "outputs": [
    {
     "name": "stdout",
     "output_type": "stream",
     "text": [
      "{\"sourcePaperID\":2052309590,\"numberBFSLevels\":2,\"followedOutLinks\":true,\"followedInLinks\":false,\"outputEdgeList\":\"2052309590.txt\",\"numFoundEdges\":171,\"numFoundNodes\":164}\n",
      "==========\n",
      "MPA (SPC) RESULTS:\n",
      "values are a good thing in conservation biology (2007)\n",
      "- 147 -> ecology values and objectivity advancing the debate (2005)\n",
      "- 109 -> beyond biology toward a more public ecology for conservation (2001)\n",
      "- 2 -> compass and gyroscope integrating science and politics for the environment (1993)\n",
      "==========\n",
      "MPA (BETWEENNESS) RESULTS:\n",
      "values are a good thing in conservation biology (2007)\n",
      "- 108.0 -> beyond biology toward a more public ecology for conservation (2001)\n",
      "- 3.0 -> ecological sustainability as a conservation concept sustentabilidad ecologica como concepto de conservacion (1997)\n",
      "==========\n",
      "PAGERANK RESULTS:\n",
      "values are a good thing in conservation biology (2007)\n",
      "- 0.00690275328587 -> advocacy and credibility of ecological scientists in resource decisionmaking a regional study (2003)\n",
      "- 0.00650926342983 -> entering the century of the environment a new social contract for science (1998)\n",
      "==========\n",
      "NODE BETWEENNESS RESULTS:\n",
      "values are a good thing in conservation biology (2007)\n",
      "- 106.25 -> beyond biology toward a more public ecology for conservation (2001)\n",
      "- 0.0 -> compass and gyroscope integrating science and politics for the environment (1993)\n"
     ]
    }
   ],
   "source": [
    "compare_results(2052309590, 2, True, False)"
   ]
  },
  {
   "cell_type": "code",
   "execution_count": 59,
   "metadata": {
    "scrolled": true
   },
   "outputs": [
    {
     "name": "stdout",
     "output_type": "stream",
     "text": [
      "{\"sourcePaperID\":2052309590,\"numberBFSLevels\":2,\"followedOutLinks\":true,\"followedInLinks\":true,\"outputEdgeList\":\"2052309590.txt\",\"numFoundEdges\":6430,\"numFoundNodes\":5696}\n",
      "Deleting edge (1852641894, 1518046545)\n",
      "==========\n",
      "MPA (SPC) RESULTS:\n",
      "values are a good thing in conservation biology (2007)\n",
      "- 436020 -> ecology values and objectivity advancing the debate (2005)\n",
      "- 217910 -> beyond biology toward a more public ecology for conservation (2001)\n",
      "- 11950 -> a science for survival values and conservation biology (1996)\n",
      "- 8467 -> a sand county almanac (1949)\n",
      "==========\n",
      "MPA (BETWEENNESS) RESULTS:\n",
      "values are a good thing in conservation biology (2007)\n",
      "- 55617.7424603 -> beyond biology toward a more public ecology for conservation (2001)\n",
      "- 802.83452381 -> the appearance of ecological systems as a matter of policy (1992)\n",
      "- 22.8345238095 -> a sand county almanac (1949)\n",
      "==========\n",
      "PAGERANK RESULTS:\n",
      "values are a good thing in conservation biology (2007)\n",
      "- 0.17837260614 -> a sand county almanac (1949)\n",
      "==========\n",
      "NODE BETWEENNESS RESULTS:\n",
      "values are a good thing in conservation biology (2007)\n",
      "- 41552.4853175 -> beyond biology toward a more public ecology for conservation (2001)\n",
      "- 144.720238095 -> a science for survival values and conservation biology (1996)\n",
      "- 0.0 -> the obligations of a biologist (1989)\n"
     ]
    }
   ],
   "source": [
    "compare_results(2052309590, 2, True, True)"
   ]
  },
  {
   "cell_type": "code",
   "execution_count": 60,
   "metadata": {
    "scrolled": true
   },
   "outputs": [
    {
     "name": "stdout",
     "output_type": "stream",
     "text": [
      "{\"sourcePaperID\":2052309590,\"numberBFSLevels\":3,\"followedOutLinks\":true,\"followedInLinks\":false,\"outputEdgeList\":\"2052309590.txt\",\"numFoundEdges\":3460,\"numFoundNodes\":3065}\n",
      "Deleting edge (2265645172, 2175653249)\n",
      "==========\n",
      "MPA (SPC) RESULTS:\n",
      "values are a good thing in conservation biology (2007)\n",
      "- 17023 -> ecology values and objectivity advancing the debate (2005)\n",
      "- 7346 -> implications of current ecological thinking for biodiversity conservation a review of the salient issues (2005)\n",
      "- 6414 -> beyond biology toward a more public ecology for conservation (2001)\n",
      "- 4185 -> the natural imperative for biological conservation (2000)\n",
      "- 1824 -> current normative concepts in conservation (1999)\n",
      "- 2197 -> cross scale morphology geometry and dynamics of ecosystems (1992)\n",
      "- 704 -> large scale management experiments and learning by doing (1990)\n",
      "- 35 -> adaptive environmental assessment and management (1978)\n",
      "==========\n",
      "MPA (BETWEENNESS) RESULTS:\n",
      "values are a good thing in conservation biology (2007)\n",
      "- 2175.56904762 -> beyond biology toward a more public ecology for conservation (2001)\n",
      "- 2338.5 -> classification of natural communities (1977)\n",
      "- 5.0 -> life zone indicators in california (1919)\n",
      "==========\n",
      "PAGERANK RESULTS:\n",
      "values are a good thing in conservation biology (2007)\n",
      "- 0.000425300841243 -> the obligations of a biologist (1989)\n",
      "==========\n",
      "NODE BETWEENNESS RESULTS:\n",
      "values are a good thing in conservation biology (2007)\n",
      "- 2934.01785714 -> beyond biology toward a more public ecology for conservation (2001)\n",
      "- 1167.25 -> classification of natural communities (1977)\n",
      "- 0.0 -> the individualistic concept of the plant association (1926)\n"
     ]
    }
   ],
   "source": [
    "compare_results(2052309590, 3, True, False)"
   ]
  },
  {
   "cell_type": "code",
   "execution_count": 61,
   "metadata": {
    "scrolled": true
   },
   "outputs": [
    {
     "name": "stdout",
     "output_type": "stream",
     "text": [
      "{\"sourcePaperID\":2052309590,\"numberBFSLevels\":4,\"followedOutLinks\":true,\"followedInLinks\":false,\"outputEdgeList\":\"2052309590.txt\",\"numFoundEdges\":40097,\"numFoundNodes\":28836}\n",
      "Deleting edge (2126101898, 2147096043)\n",
      "Deleting edge (2109580099, 2036038071)\n",
      "Deleting edge (1501126627, 2165702945)\n",
      "Deleting edge (2164018692, 2160225296)\n",
      "Deleting edge (2057142259, 1983158799)\n",
      "Deleting edge (1968468300, 2066187816)\n",
      "Deleting edge (1964556100, 1992658889)\n",
      "Deleting edge (2010394253, 1992658889)\n",
      "Deleting edge (2010394253, 1964556100)\n",
      "Deleting edge (2132443331, 2041409839)\n",
      "Deleting edge (2164018692, 2098341261)\n",
      "Deleting edge (1979909894, 2017380944)\n",
      "Deleting edge (2121969791, 2164018692)\n",
      "Deleting edge (2265645172, 2175653249)\n",
      "==========\n",
      "MPA (SPC) RESULTS:\n",
      "values are a good thing in conservation biology (2007)\n",
      "- 43371700 -> beyond biology toward a more public ecology for conservation (2001)\n",
      "- 44448588 -> the natural imperative for biological conservation (2000)\n",
      "- 17619765 -> current normative concepts in conservation (1999)\n",
      "- 15076096 -> ecological sustainability as a conservation concept (1997)\n",
      "- 8891322 -> biological integrity versus biological diversity as policy directivesprotecting biotic resources (1994)\n",
      "- 12242100 -> the problem of pattern and scale in ecology (1992)\n",
      "- 0 -> qualitative analysis of insect outbreak systems the spruce budworm and forest (1978)\n",
      "==========\n",
      "MPA (BETWEENNESS) RESULTS:\n",
      "values are a good thing in conservation biology (2007)\n",
      "- 18521.1471835 -> beyond biology toward a more public ecology for conservation (2001)\n",
      "- 8159.73013376 -> sorting things out classification and its consequences (1999)\n",
      "- 460.541666667 -> indexing and access for digital libraries and the internet human database and domain factors (1998)\n",
      "- 6.0 -> participative management in academic libraries (1978)\n",
      "==========\n",
      "PAGERANK RESULTS:\n",
      "values are a good thing in conservation biology (2007)\n",
      "- 4.93772813951e-05 -> a sand county almanac (1949)\n",
      "==========\n",
      "NODE BETWEENNESS RESULTS:\n",
      "values are a good thing in conservation biology (2007)\n",
      "- 21326.8262483 -> beyond biology toward a more public ecology for conservation (2001)\n",
      "- 115082.232265 -> classification of natural communities (1977)\n",
      "- 30687.7688921 -> vegetation of the siskiyou mountains oregon and california (1960)\n",
      "- 16268.0863673 -> vegetation of the great smoky mountains (1956)\n",
      "- 5085.20968134 -> plant associations on land (1939)\n",
      "- 4502.25027693 -> some recent publications on phytogeography in scandinavia (1937)\n",
      "- 223.755839259 -> concepts and criteria for the recognition of communities (1936)\n",
      "- 694.660787385 -> the classification of vegetation and the concept of development (1920)\n",
      "- 0.0 -> plant succession an analysis of the development of vegetation (1916)\n"
     ]
    }
   ],
   "source": [
    "compare_results(2052309590, 4, True, False)"
   ]
  },
  {
   "cell_type": "markdown",
   "metadata": {},
   "source": [
    "### Network Embedding as Matrix Factorization: Unifying DeepWalk, LINE, PTE, and node2vec"
   ]
  },
  {
   "cell_type": "code",
   "execution_count": 62,
   "metadata": {
    "scrolled": true
   },
   "outputs": [
    {
     "name": "stdout",
     "output_type": "stream",
     "text": [
      "{\"sourcePaperID\":2761896323,\"numberBFSLevels\":2,\"followedOutLinks\":true,\"followedInLinks\":false,\"outputEdgeList\":\"2761896323.txt\",\"numFoundEdges\":1571,\"numFoundNodes\":1155}\n",
      "==========\n",
      "MPA (SPC) RESULTS:\n",
      "network embedding as matrix factorization unifying deepwalk line pte and node2vec (2018)\n",
      "- 13278 -> inductive representation learning on large graphs (2017)\n",
      "- 4567 -> structural deep network embedding (2016)\n",
      "- 5676 -> grarep learning graph representations with global structural information (2015)\n",
      "- 13008 -> line large scale information network embedding (2015)\n",
      "- 24375 -> deepwalk online learning of social representations (2014)\n",
      "- 22932 -> representation learning a review and new perspectives (2013)\n",
      "- 104 -> nonlinear dimensionality reduction by locally linear embedding (2000)\n",
      "==========\n",
      "MPA (BETWEENNESS) RESULTS:\n",
      "network embedding as matrix factorization unifying deepwalk line pte and node2vec (2018)\n",
      "- 233.087301587 -> representation learning a review and new perspectives (2013)\n",
      "- 22.0 -> modeling pixel means and covariances using factorized third order boltzmann machines (2010)\n",
      "==========\n",
      "PAGERANK RESULTS:\n",
      "network embedding as matrix factorization unifying deepwalk line pte and node2vec (2018)\n",
      "- 0.00140988846633 -> deepwalk online learning of social representations (2014)\n",
      "- 0.00121998971891 -> efficient estimation of word representations in vector space (2013)\n",
      "- 0.00102120035794 -> linguistic regularities in continuous space word representations (2013)\n",
      "==========\n",
      "NODE BETWEENNESS RESULTS:\n",
      "network embedding as matrix factorization unifying deepwalk line pte and node2vec (2018)\n",
      "- 2930.60579004 -> deepwalk online learning of social representations (2014)\n",
      "- 2485.03234127 -> representation learning a review and new perspectives (2013)\n",
      "- 0.0 -> nonlinear dimensionality reduction by locally linear embedding (2000)\n"
     ]
    }
   ],
   "source": [
    "compare_results(2761896323, 2, True, False)"
   ]
  },
  {
   "cell_type": "code",
   "execution_count": 63,
   "metadata": {
    "scrolled": true
   },
   "outputs": [
    {
     "name": "stdout",
     "output_type": "stream",
     "text": [
      "{\"sourcePaperID\":2761896323,\"numberBFSLevels\":2,\"followedOutLinks\":true,\"followedInLinks\":true,\"outputEdgeList\":\"2761896323.txt\",\"numFoundEdges\":55686,\"numFoundNodes\":47035}\n",
      "Deleting edge (2111002549, 2146591355)\n",
      "Deleting edge (2767045141, 2624431344)\n",
      "Deleting edge (2163922914, 2106439909)\n",
      "Deleting edge (2782733358, 2785662987)\n",
      "Deleting edge (2260771218, 2744080778)\n",
      "Deleting edge (2141599568, 1614298861)\n",
      "Deleting edge (2163922914, 2013035813)\n",
      "Deleting edge (2510403706, 1495323440)\n",
      "Deleting edge (2163922914, 1811734137)\n",
      "Deleting edge (2002276939, 2132914434)\n",
      "Deleting edge (2118585731, 2109943925)\n",
      "Deleting edge (2614634292, 2163922914)\n",
      "Deleting edge (2132914434, 2143420533)\n",
      "==========\n",
      "MPA (SPC) RESULTS:\n",
      "network embedding as matrix factorization unifying deepwalk line pte and node2vec (2018)\n",
      "- 11421020 -> inductive representation learning on large graphs (2017)\n",
      "- 21743568 -> community preserving network embedding (2017)\n",
      "- 6102720 -> node2vec scalable feature learning for networks (2016)\n",
      "- 29124370 -> grarep learning graph representations with global structural information (2015)\n",
      "- 25489092 -> line large scale information network embedding (2015)\n",
      "- 60521517 -> deepwalk online learning of social representations (2014)\n",
      "- 74027785 -> leveraging social media networks for classification (2011)\n",
      "- 39921960 -> empirical comparison of algorithms for network community detection (2010)\n",
      "- 18177285 -> community detection in graphs (2010)\n",
      "- 18250191 -> a tutorial on spectral clustering (2007)\n",
      "- 6712212 -> random walk computation of similarities between nodes of a graph with application to collaborative recommendation (2007)\n",
      "- 6137152 -> normalized cuts and image segmentation (2000)\n",
      "- 15488304 -> spectral graph theory (1996)\n",
      "- 12297841 -> asymptotic analysis of a random walk on a hypercube with many dimensions (1990)\n",
      "==========\n",
      "MPA (BETWEENNESS) RESULTS:\n",
      "network embedding as matrix factorization unifying deepwalk line pte and node2vec (2018)\n",
      "- 1025.72979798 -> mining multi label data (2009)\n",
      "- 3957.64393939 -> hypergraph spectral learning for multi label classification (2008)\n",
      "- 3280.64393939 -> spectral graph theory (1996)\n",
      "- 20456.0 -> asymptotic analysis of a random walk on a hypercube with many dimensions (1990)\n",
      "==========\n",
      "PAGERANK RESULTS:\n",
      "network embedding as matrix factorization unifying deepwalk line pte and node2vec (2018)\n",
      "- 0.0670695323833 -> normalized cuts and image segmentation (2000)\n",
      "- 0.0366379244684 -> spectral graph theory (1996)\n",
      "- 0.00779442732226 -> asymptotic analysis of a random walk on a hypercube with many dimensions (1990)\n",
      "==========\n",
      "NODE BETWEENNESS RESULTS:\n",
      "network embedding as matrix factorization unifying deepwalk line pte and node2vec (2018)\n",
      "- 464524.386202 -> representation learning a review and new perspectives (2013)\n",
      "- 113084.375232 -> natural language processing almost from scratch (2011)\n",
      "- 137125.601485 -> feature rich part of speech tagging with a cyclic dependency network (2003)\n",
      "- 0.0 -> estimators for stochastic unification based grammars (1999)\n"
     ]
    }
   ],
   "source": [
    "compare_results(2761896323, 2, True, True)"
   ]
  },
  {
   "cell_type": "code",
   "execution_count": 64,
   "metadata": {
    "scrolled": true
   },
   "outputs": [
    {
     "name": "stdout",
     "output_type": "stream",
     "text": [
      "{\"sourcePaperID\":2761896323,\"numberBFSLevels\":3,\"followedOutLinks\":true,\"followedInLinks\":false,\"outputEdgeList\":\"2761896323.txt\",\"numFoundEdges\":34040,\"numFoundNodes\":17866}\n",
      "Deleting edge (193851967, 2099939455)\n",
      "Deleting edge (2140833774, 2072128103)\n",
      "Deleting edge (2066459332, 2144799688)\n",
      "Deleting edge (2156740722, 2136922672)\n",
      "Deleting edge (1989368986, 2103829273)\n",
      "Deleting edge (1916091028, 1979505770)\n",
      "Deleting edge (2020842694, 1880262756)\n",
      "Deleting edge (2165966284, 2142623206)\n",
      "Deleting edge (2153441719, 2164853353)\n",
      "Deleting edge (1950703464, 2140000690)\n",
      "Deleting edge (2096091969, 2136676173)\n",
      "Deleting edge (200434350, 2171009857)\n",
      "Deleting edge (2109025268, 2097308346)\n",
      "Deleting edge (2614634292, 2163922914)\n",
      "Deleting edge (2145038566, 2159291644)\n",
      "Deleting edge (1989368986, 1866611211)\n",
      "Deleting edge (2156740722, 2116825644)\n",
      "Deleting edge (2097308346, 1511160855)\n",
      "Deleting edge (2072128103, 2168345951)\n",
      "Deleting edge (2613634265, 2110798204)\n",
      "Deleting edge (2072128103, 2296073425)\n",
      "Deleting edge (2260771218, 2744080778)\n",
      "Deleting edge (2153635508, 2109943925)\n",
      "Deleting edge (1916091028, 2073647817)\n",
      "Deleting edge (1916091028, 2153441719)\n",
      "Deleting edge (1916091028, 2164853353)\n",
      "Deleting edge (2140095548, 2008056655)\n",
      "Deleting edge (2072128103, 2187089797)\n",
      "Deleting edge (2127048411, 2146591355)\n",
      "Deleting edge (2137253512, 2605441573)\n",
      "Deleting edge (2132914434, 2143420533)\n",
      "Deleting edge (1482260847, 1979495886)\n",
      "Deleting edge (2163922914, 2106439909)\n",
      "Deleting edge (1916091028, 2129575457)\n",
      "Deleting edge (2106004777, 2072128103)\n",
      "Deleting edge (2146672645, 2124486835)\n",
      "Deleting edge (2117539524, 2123024445)\n",
      "Deleting edge (2138621811, 2063392856)\n",
      "Deleting edge (2072128103, 2025768430)\n",
      "Deleting edge (1993882792, 2147768505)\n",
      "Deleting edge (2107743791, 1612003148)\n",
      "Deleting edge (2250189634, 2251771443)\n",
      "Deleting edge (2111002549, 2146591355)\n",
      "Deleting edge (2002276939, 2132914434)\n",
      "Deleting edge (2260771218, 2539305835)\n",
      "Deleting edge (1806891645, 2616180702)\n",
      "Deleting edge (2163922914, 1811734137)\n",
      "Deleting edge (2013009523, 2097698606)\n",
      "Deleting edge (2021680564, 2130891992)\n",
      "Deleting edge (2618530766, 2194775991)\n",
      "Deleting edge (2117539524, 2102605133)\n",
      "Deleting edge (2510403706, 1495323440)\n",
      "Deleting edge (2251939518, 1889268436)\n",
      "Deleting edge (2554382158, 2539305835)\n",
      "Deleting edge (2260771218, 2554382158)\n",
      "Deleting edge (2118585731, 2109943925)\n",
      "Deleting edge (2141599568, 1614298861)\n",
      "Deleting edge (1994906459, 2003289302)\n",
      "Deleting edge (1866611211, 2103829273)\n",
      "Deleting edge (2163922914, 2013035813)\n",
      "Deleting edge (2767045141, 2624431344)\n",
      "Deleting edge (93016980, 2123024445)\n",
      "Deleting edge (1989368986, 1493594095)\n",
      "==========\n",
      "MPA (SPC) RESULTS:\n",
      "network embedding as matrix factorization unifying deepwalk line pte and node2vec (2018)\n",
      "- 397574 -> a unifying theorem for spectral embedding and clustering (2003)\n",
      "- 0 -> on clusterings good bad and spectral (2000)\n",
      "- 0 -> latent semantic indexing a probabilistic analysis (1998)\n",
      "- 0 -> authoritative sources in a hyperlinked environment (1998)\n",
      "==========\n",
      "MPA (BETWEENNESS) RESULTS:\n",
      "network embedding as matrix factorization unifying deepwalk line pte and node2vec (2018)\n",
      "- 2673.73255329 -> representation learning a review and new perspectives (2013)\n",
      "- 24988.333692 -> bayesian and l1 approaches to sparse unsupervised learning (2011)\n",
      "- 26895.9425509 -> mixed membership stochastic blockmodels (2008)\n",
      "- 22677.7058508 -> model based clustering for social networks (2007)\n",
      "- 9001.51216715 -> model based clustering discriminant analysis and density estimation (2002)\n",
      "- 169.0 -> bayesian cluster analysis (1978)\n",
      "==========\n",
      "PAGERANK RESULTS:\n",
      "network embedding as matrix factorization unifying deepwalk line pte and node2vec (2018)\n",
      "- 0.000227034952396 -> spectral graph theory (1996)\n",
      "- 0.000114827910059 -> spectra of graphs (1980)\n",
      "- 9.95173849325e-05 -> algebraic connectivity of graphs (1973)\n",
      "==========\n",
      "NODE BETWEENNESS RESULTS:\n",
      "network embedding as matrix factorization unifying deepwalk line pte and node2vec (2018)\n",
      "- 98103.3301496 -> representation learning a review and new perspectives (2013)\n",
      "- 87729.5446303 -> learning deep architectures for ai (2009)\n",
      "- 44717.8302993 -> a fast learning algorithm for deep belief nets (2006)\n",
      "- 22436.1560626 -> justifying and generalizing contrastive divergence (2009)\n",
      "- 30866.0870895 -> scaling learning algorithms towards ai (2007)\n",
      "- 23607.9172559 -> semi supervised learning using gaussian fields and harmonic functions (2003)\n",
      "- 51783.7071224 -> normalized cuts and image segmentation (2000)\n",
      "- 25350.4822032 -> spectral graph theory (1996)\n",
      "- 22975.2449903 -> spectra of graphs (1980)\n",
      "- 0.0 -> matrix iterative analysis (1962)\n"
     ]
    }
   ],
   "source": [
    "compare_results(2761896323, 3, True, False)"
   ]
  }
 ],
 "metadata": {
  "kernelspec": {
   "display_name": "Python 2",
   "language": "python",
   "name": "python2"
  },
  "language_info": {
   "codemirror_mode": {
    "name": "ipython",
    "version": 2
   },
   "file_extension": ".py",
   "mimetype": "text/x-python",
   "name": "python",
   "nbconvert_exporter": "python",
   "pygments_lexer": "ipython2",
   "version": "2.7.13"
  }
 },
 "nbformat": 4,
 "nbformat_minor": 2
}
