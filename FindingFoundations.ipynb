{
 "cells": [
  {
   "cell_type": "markdown",
   "metadata": {},
   "source": [
    "# Finding Foundations: Tracing the Lineages of Academic Knowledge\n",
    "Jack Beasley (jbeasley), Kristine Guo (kguo98)  \n",
    "CS 224W Fall 2018  \n",
    "  \n",
    "Implementation of methods and evaluation."
   ]
  },
  {
   "cell_type": "code",
   "execution_count": 1,
   "metadata": {},
   "outputs": [],
   "source": [
    "import snap\n",
    "from IPython.display import Image\n",
    "from collections import defaultdict\n",
    "from bfs_graph import translate, create_snap_graph, get_bfs_graph\n",
    "from mag_api import mag_evaluate, mag_get_title, mag_get_date"
   ]
  },
  {
   "cell_type": "markdown",
   "metadata": {},
   "source": [
    "## Create BFS Subgraph\n",
    "Retrieve the graph produced by a BFS from the given start paper."
   ]
  },
  {
   "cell_type": "code",
   "execution_count": null,
   "metadata": {},
   "outputs": [],
   "source": [
    "G, mag_to_snap = get_bfs_graph(2366141641, 2, True, False)\n",
    "snap_to_mag = {v: k for k, v in mag_to_snap.iteritems()}"
   ]
  },
  {
   "cell_type": "code",
   "execution_count": null,
   "metadata": {},
   "outputs": [],
   "source": [
    "# Sanity check for correct nodes and ID translation.\n",
    "for node in G.Nodes():\n",
    "    print node.GetId(), \"\\t\", snap_to_mag[node.GetId()]"
   ]
  },
  {
   "cell_type": "code",
   "execution_count": null,
   "metadata": {},
   "outputs": [],
   "source": [
    "snap.DrawGViz(G, snap.gvlDot, \"2366141641.png\", \"BFS Graph for 2366141641 (Out)\")\n",
    "Image(filename='2366141641.png')"
   ]
  },
  {
   "cell_type": "code",
   "execution_count": null,
   "metadata": {},
   "outputs": [],
   "source": [
    "Graph, mag_to_snap_full = get_bfs_graph(633000, 3, True, True)\n",
    "snap_to_mag_full = {v: k for k, v in mag_to_snap_full.iteritems()}"
   ]
  },
  {
   "cell_type": "code",
   "execution_count": null,
   "metadata": {},
   "outputs": [],
   "source": [
    "# Sanity check\n",
    "start_node = Graph.GetNI(mag_to_snap_full[633000])\n",
    "print(\"633000 has {} references in full BFS graph\".format(start_node.GetOutDeg()))\n",
    "print(\"633000 has {} citations in full BFS graph\".format(start_node.GetInDeg()))"
   ]
  },
  {
   "cell_type": "markdown",
   "metadata": {},
   "source": [
    "## MAG Request\n",
    "Example of MAG API request."
   ]
  },
  {
   "cell_type": "code",
   "execution_count": null,
   "metadata": {},
   "outputs": [],
   "source": [
    "mag_get_title(2366141641)"
   ]
  },
  {
   "cell_type": "markdown",
   "metadata": {},
   "source": [
    "## Search Path Count\n",
    "Implementation of SPC based on Batagelj (2003)."
   ]
  },
  {
   "cell_type": "code",
   "execution_count": 2,
   "metadata": {},
   "outputs": [],
   "source": [
    "def get_in_degrees(Graph):\n",
    "    InDegV = snap.TIntPrV()\n",
    "    snap.GetNodeInDegV(Graph, InDegV)\n",
    "    return {item.GetVal1() : item.GetVal2() for item in InDegV}\n",
    "\n",
    "def get_out_degrees(Graph):\n",
    "    OutDegV = snap.TIntPrV()\n",
    "    snap.GetNodeOutDegV(Graph, OutDegV)\n",
    "    return {item.GetVal1() : item.GetVal2() for item in OutDegV}"
   ]
  },
  {
   "cell_type": "code",
   "execution_count": 3,
   "metadata": {},
   "outputs": [],
   "source": [
    "def compute_n_minus(start, in_degrees, Graph):\n",
    "    n_minus = defaultdict(int)\n",
    "    in_deg = in_degrees.copy()\n",
    "    while len(start) > 0:\n",
    "        node = start.pop()\n",
    "        if in_degrees[node] == 0:\n",
    "            n_minus[node] = 1\n",
    "        else:\n",
    "            total = 0\n",
    "            for citation in Graph.GetNI(node).GetInEdges():\n",
    "                total += n_minus[citation]\n",
    "            n_minus[node] = total\n",
    "\n",
    "        for ref in Graph.GetNI(node).GetOutEdges():\n",
    "            in_deg[ref] -= 1\n",
    "            if in_deg[ref] == 0:\n",
    "                start.add(ref)\n",
    "    return n_minus"
   ]
  },
  {
   "cell_type": "code",
   "execution_count": 4,
   "metadata": {},
   "outputs": [],
   "source": [
    "def compute_n_plus(start, out_degrees, Graph):\n",
    "    n_plus = defaultdict(int)\n",
    "    out_deg = out_degrees.copy()\n",
    "    while len(start) > 0:\n",
    "        node = start.pop()\n",
    "        if out_degrees[node] == 0:\n",
    "            n_plus[node] = 1\n",
    "        else:\n",
    "            total = 0\n",
    "            for reference in Graph.GetNI(node).GetOutEdges():\n",
    "                total += n_plus[reference]\n",
    "            n_plus[node] = total\n",
    "\n",
    "        for citation in Graph.GetNI(node).GetInEdges():\n",
    "            out_deg[citation] -= 1\n",
    "            if out_deg[citation] == 0:\n",
    "                start.add(citation)\n",
    "    return n_plus"
   ]
  },
  {
   "cell_type": "code",
   "execution_count": 5,
   "metadata": {},
   "outputs": [],
   "source": [
    "def spc(Graph):\n",
    "    in_degrees = get_in_degrees(Graph)\n",
    "    out_degrees = get_out_degrees(Graph)\n",
    "    \n",
    "    n_minus = compute_n_minus(set([node for node in in_degrees if in_degrees[node] == 0]), in_degrees, Graph)\n",
    "    n_plus = compute_n_plus(set([node for node in out_degrees if out_degrees[node] == 0]), out_degrees, Graph)\n",
    "    \n",
    "    spc_counts = defaultdict(int)\n",
    "    for edge in Graph.Edges():\n",
    "        src = edge.GetSrcNId()\n",
    "        dst = edge.GetDstNId()\n",
    "        spc_counts[(src, dst)] = n_minus[src] * n_plus[dst]\n",
    "    return spc_counts"
   ]
  },
  {
   "cell_type": "markdown",
   "metadata": {},
   "source": [
    "## Edge Betweenness\n",
    "Call SNAP betweenness function to get edge betweenness of every edge."
   ]
  },
  {
   "cell_type": "code",
   "execution_count": 6,
   "metadata": {},
   "outputs": [],
   "source": [
    "def edge_betweenness(Graph):\n",
    "    Nodes = snap.TIntFltH()\n",
    "    Edges = snap.TIntPrFltH()\n",
    "    snap.GetBetweennessCentr(Graph, Nodes, Edges, 1.0, True)\n",
    "    return {(edge.GetVal1(), edge.GetVal2()): Edges[edge] for edge in Edges}"
   ]
  },
  {
   "cell_type": "markdown",
   "metadata": {},
   "source": [
    "## Main Path Analysis\n",
    "Methods for constructing main paths based on different measures."
   ]
  },
  {
   "cell_type": "code",
   "execution_count": 7,
   "metadata": {},
   "outputs": [],
   "source": [
    "def mpa(start_node, translate, counts, Graph):\n",
    "    '''MPA using given counts as edge weights.'''\n",
    "    node = start_node\n",
    "    nodes = set([start_node])\n",
    "    print mag_get_title(translate[node])\n",
    "    while Graph.GetNI(node).GetOutDeg() != 0:\n",
    "        next_node = -1\n",
    "        largest = -1\n",
    "        for neighbor in Graph.GetNI(node).GetOutEdges():\n",
    "            if counts[(node, neighbor)] > largest and neighbor not in nodes:\n",
    "                largest = counts[(node, neighbor)]\n",
    "                next_node = neighbor\n",
    "        if next_node < 0:\n",
    "            break\n",
    "        node = next_node\n",
    "        nodes.add(next_node)\n",
    "        print \"-\", largest, \"->\", mag_get_title(translate[node])"
   ]
  },
  {
   "cell_type": "code",
   "execution_count": 8,
   "metadata": {},
   "outputs": [],
   "source": [
    "def mpa_spc(start_node, translate, Graph):\n",
    "    '''MPA using SPC as traversal counts.'''\n",
    "    mpa(start_node, translate, spc(Graph), Graph)"
   ]
  },
  {
   "cell_type": "code",
   "execution_count": 9,
   "metadata": {},
   "outputs": [],
   "source": [
    "def mpa_bw(start_node, translate, Graph):\n",
    "    '''MPA using edge betweenness as traversal counts.'''\n",
    "    mpa(start_node, translate, edge_betweenness(Graph), Graph)"
   ]
  },
  {
   "cell_type": "code",
   "execution_count": 10,
   "metadata": {},
   "outputs": [],
   "source": [
    "def mpa_val(start_node, translate, values, Graph):\n",
    "    '''Construct main path by greedily choosing node with highest value.'''\n",
    "    node = start_node\n",
    "    nodes = set([start_node])\n",
    "    print mag_get_title(translate[node])\n",
    "    while Graph.GetNI(node).GetOutDeg() != 0:\n",
    "        next_node = -1\n",
    "        largest = -1\n",
    "        for neighbor in Graph.GetNI(node).GetOutEdges():\n",
    "            if values[neighbor] > largest and neighbor not in nodes:\n",
    "                largest = values[neighbor]\n",
    "                next_node = neighbor\n",
    "        if next_node < 0:\n",
    "            break\n",
    "        node = next_node\n",
    "        nodes.add(next_node)\n",
    "        print \"-\", largest, \"->\", mag_get_title(translate[node])"
   ]
  },
  {
   "cell_type": "markdown",
   "metadata": {},
   "source": [
    "## Validate Graph\n",
    "Mitigate cyclic effects by identifying bidirectional edges and removing the edge from the older paper to the newer paper."
   ]
  },
  {
   "cell_type": "code",
   "execution_count": 11,
   "metadata": {},
   "outputs": [],
   "source": [
    "def validate_graph(Graph, snap_to_mag):\n",
    "    bad_edges = set()\n",
    "    for edge in Graph.Edges():\n",
    "        src_nid = edge.GetSrcNId()\n",
    "        dst_nid = edge.GetDstNId()\n",
    "        if Graph.IsEdge(dst_nid, src_nid):\n",
    "            first = min(src_nid, dst_nid)\n",
    "            second = max(src_nid, dst_nid)\n",
    "            bad_edges.add((first, second))\n",
    "    for bad_edge in bad_edges:\n",
    "        date1 = mag_get_date(snap_to_mag[bad_edge[0]])\n",
    "        date2 = mag_get_date(snap_to_mag[bad_edge[1]])\n",
    "        if date1 < date2:\n",
    "            print \"Deleting edge (%d, %d)\" % (snap_to_mag[bad_edge[1]], snap_to_mag[bad_edge[0]])\n",
    "            Graph.DelEdge(bad_edge[1], bad_edge[0])\n",
    "        else:\n",
    "            print \"Deleting edge (%d, %d)\" % (snap_to_mag[bad_edge[0]], snap_to_mag[bad_edge[1]])\n",
    "            Graph.DelEdge(bad_edge[0], bad_edge[1])"
   ]
  },
  {
   "cell_type": "markdown",
   "metadata": {},
   "source": [
    "## Baseline Methods\n",
    "Using SNAP functions to get PageRank and node betweenness values for every node in given graph."
   ]
  },
  {
   "cell_type": "markdown",
   "metadata": {},
   "source": [
    "### PageRank"
   ]
  },
  {
   "cell_type": "code",
   "execution_count": 12,
   "metadata": {},
   "outputs": [],
   "source": [
    "def pagerank(paper, snap_to_mag, Graph):\n",
    "    PRankH = snap.TIntFltH()\n",
    "    snap.GetPageRank(Graph, PRankH)\n",
    "    PRankH.SortByDat(False)\n",
    "    return PRankH"
   ]
  },
  {
   "cell_type": "markdown",
   "metadata": {},
   "source": [
    "### Node Betweenness"
   ]
  },
  {
   "cell_type": "code",
   "execution_count": 13,
   "metadata": {},
   "outputs": [],
   "source": [
    "def node_betweenness(snap_to_mag, Graph):\n",
    "    Nodes = snap.TIntFltH()\n",
    "    Edges = snap.TIntPrFltH()\n",
    "    snap.GetBetweennessCentr(Graph, Nodes, Edges, 1.0, True)\n",
    "    return Nodes"
   ]
  },
  {
   "cell_type": "markdown",
   "metadata": {},
   "source": [
    "## Compare Results Function\n",
    "Convenience function to print out results for all evaluated methods."
   ]
  },
  {
   "cell_type": "code",
   "execution_count": 18,
   "metadata": {},
   "outputs": [],
   "source": [
    "def compare_results(paper, levels=2, follow_out=True, follow_in=False):\n",
    "    Graph, mag_to_snap = get_bfs_graph(paper, levels, follow_out, follow_in)\n",
    "    snap_to_mag = {v: k for k, v in mag_to_snap.iteritems()}\n",
    "    validate_graph(Graph, snap_to_mag)\n",
    "    pr = pagerank(mag_to_snap[paper], snap_to_mag, Graph)\n",
    "    nb = node_betweenness(snap_to_mag, Graph)\n",
    "    \n",
    "    print '='*10\n",
    "    print \"MPA (SPC) RESULTS:\"\n",
    "    mpa_spc(mag_to_snap[paper], snap_to_mag, Graph)\n",
    "    print '='*10\n",
    "    print \"MPA (BETWEENNESS) RESULTS:\"\n",
    "    mpa_bw(mag_to_snap[paper], snap_to_mag, Graph)\n",
    "    print '='*10\n",
    "    print \"PAGERANK RESULTS:\"\n",
    "    mpa_val(mag_to_snap[paper], snap_to_mag, pr, Graph)\n",
    "    print '='*10\n",
    "    print \"NODE BETWEENNESS RESULTS:\"\n",
    "    mpa_val(mag_to_snap[paper], snap_to_mag, nb, Graph)"
   ]
  },
  {
   "cell_type": "markdown",
   "metadata": {},
   "source": [
    "## RESULTS\n",
    "All generated results."
   ]
  },
  {
   "cell_type": "markdown",
   "metadata": {},
   "source": [
    "### Node2Vec"
   ]
  },
  {
   "cell_type": "code",
   "execution_count": 19,
   "metadata": {
    "scrolled": true
   },
   "outputs": [
    {
     "name": "stdout",
     "output_type": "stream",
     "text": [
      "{\"sourcePaperID\":2366141641,\"numberBFSLevels\":2,\"followedOutLinks\":true,\"followedInLinks\":false,\"outputEdgeList\":\"2366141641.txt\",\"numFoundEdges\":1684,\"numFoundNodes\":1395}\n",
      "==========\n",
      "MPA (SPC) RESULTS:\n",
      "node2vec scalable feature learning for networks (2016)\n",
      "- 2230 -> grarep learning graph representations with global structural information (2015)\n",
      "- 1010 -> line large scale information network embedding (2015)\n",
      "- 1336 -> deepwalk online learning of social representations (2014)\n",
      "- 1710 -> representation learning a review and new perspectives (2013)\n",
      "- 198 -> a global geometric framework for nonlinear dimensionality reduction (2000)\n",
      "- 23 -> independent component analysis a new concept (1994)\n",
      "==========\n",
      "MPA (BETWEENNESS) RESULTS:\n",
      "node2vec scalable feature learning for networks (2016)\n",
      "- 425.366666667 -> community detection in graphs (2010)\n",
      "- 3.0 -> preferential attachment of communities the same principle but a higher level (2006)\n",
      "==========\n",
      "PAGERANK RESULTS:\n",
      "node2vec scalable feature learning for networks (2016)\n",
      "- 0.000923760984197 -> nonlinear dimensionality reduction by locally linear embedding (2000)\n",
      "- 0.000802570092072 -> learning the parts of objects by non negative matrix factorization (1999)\n",
      "==========\n",
      "NODE BETWEENNESS RESULTS:\n",
      "node2vec scalable feature learning for networks (2016)\n",
      "- 916.508333333 -> deepwalk online learning of social representations (2014)\n",
      "- 882.7 -> representation learning a review and new perspectives (2013)\n",
      "- 96.6666666667 -> a global geometric framework for nonlinear dimensionality reduction (2000)\n",
      "- 0.0 -> independent component analysis a new concept (1994)\n"
     ]
    }
   ],
   "source": [
    "compare_results(2366141641, 2, True, False)"
   ]
  },
  {
   "cell_type": "code",
   "execution_count": 72,
   "metadata": {
    "scrolled": true
   },
   "outputs": [
    {
     "name": "stdout",
     "output_type": "stream",
     "text": [
      "{\"sourcePaperID\":2366141641,\"numberBFSLevels\":2,\"followedOutLinks\":true,\"followedInLinks\":true,\"outputEdgeList\":\"2366141641.txt\",\"numFoundEdges\":68407,\"numFoundNodes\":45710}\n",
      "Deleting edge (2759045585, 2789220419)\n",
      "Deleting edge (2163922914, 2013035813)\n",
      "Deleting edge (2110620844, 2127048411)\n",
      "Deleting edge (2614634292, 2163922914)\n",
      "Deleting edge (2782733358, 2785662987)\n",
      "Deleting edge (1557055049, 2135230723)\n",
      "Deleting edge (2008209917, 2127048411)\n",
      "Deleting edge (2127048411, 2149274953)\n",
      "Deleting edge (1967022297, 2127048411)\n",
      "Deleting edge (2066459332, 2144799688)\n",
      "Deleting edge (2809376420, 2808923352)\n",
      "Deleting edge (2127048411, 2155369095)\n",
      "Deleting edge (2163922914, 2106439909)\n",
      "Deleting edge (1989524890, 2127048411)\n",
      "Deleting edge (2700550412, 2614812929)\n",
      "Deleting edge (2593560573, 1683668173)\n",
      "Deleting edge (2558460151, 2558748708)\n",
      "Deleting edge (2808923352, 2796096336)\n",
      "Deleting edge (2127048411, 2098873466)\n",
      "Deleting edge (2767045141, 2624431344)\n",
      "Deleting edge (2141599568, 1614298861)\n",
      "Deleting edge (2754629507, 2765574772)\n",
      "Deleting edge (2746012317, 2626137579)\n",
      "Deleting edge (2163922914, 1811734137)\n",
      "Deleting edge (2127048411, 1942910215)\n",
      "Deleting edge (2584995636, 2595947069)\n",
      "Deleting edge (2127048411, 2146591355)\n",
      "Deleting edge (2107569009, 1996816151)\n",
      "==========\n",
      "MPA (SPC) RESULTS:\n",
      "node2vec scalable feature learning for networks (2016)\n",
      "- 0 -> nonlinear dimensionality reduction by locally linear embedding (2000)\n",
      "- 0 -> learning the parts of objects by non negative matrix factorization (1999)\n",
      "==========\n",
      "MPA (BETWEENNESS) RESULTS:\n",
      "node2vec scalable feature learning for networks (2016)\n",
      "- 293838.710168 -> community detection in graphs (2010)\n",
      "- 94710.802381 -> the principal components analysis of a graph and its relationships to spectral clustering (2004)\n",
      "- 88308.802381 -> laplacian eigenmaps and spectral techniques for embedding and clustering (2001)\n",
      "- 125532.981547 -> a global geometric framework for nonlinear dimensionality reduction (2000)\n",
      "- 27776.0 -> perceptual cognitive universals as reflections of the world (1994)\n",
      "==========\n",
      "PAGERANK RESULTS:\n",
      "node2vec scalable feature learning for networks (2016)\n",
      "- 0.046856859352 -> nonlinear dimensionality reduction by locally linear embedding (2000)\n",
      "- 0.00472788351504 -> image representations for visual learning (1996)\n",
      "==========\n",
      "NODE BETWEENNESS RESULTS:\n",
      "node2vec scalable feature learning for networks (2016)\n",
      "- 1738104.08082 -> community detection in graphs (2010)\n",
      "- 44242.6061299 -> random walk computation of similarities between nodes of a graph with application to collaborative recommendation (2007)\n",
      "- 109733.078643 -> laplacian eigenmaps and spectral techniques for embedding and clustering (2001)\n",
      "- 0.0 -> normalized cuts and image segmentation (2000)\n"
     ]
    }
   ],
   "source": [
    "compare_results(2366141641, 2, True, True)"
   ]
  },
  {
   "cell_type": "code",
   "execution_count": 73,
   "metadata": {
    "scrolled": true
   },
   "outputs": [
    {
     "name": "stdout",
     "output_type": "stream",
     "text": [
      "{\"sourcePaperID\":2366141641,\"numberBFSLevels\":3,\"followedOutLinks\":true,\"followedInLinks\":false,\"outputEdgeList\":\"2366141641.txt\",\"numFoundEdges\":38148,\"numFoundNodes\":19854}\n",
      "Deleting edge (2140833774, 2072128103)\n",
      "Deleting edge (2050239729, 2068015060)\n",
      "Deleting edge (2008209917, 2044988896)\n",
      "Deleting edge (1557055049, 2135230723)\n",
      "Deleting edge (2072128103, 2187089797)\n",
      "Deleting edge (1617641394, 2125315567)\n",
      "Deleting edge (2131494463, 1525961042)\n",
      "Deleting edge (1993882792, 2147768505)\n",
      "Deleting edge (2106004777, 2072128103)\n",
      "Deleting edge (1994906459, 2003289302)\n",
      "Deleting edge (2156740722, 2136922672)\n",
      "Deleting edge (1989524890, 2127048411)\n",
      "Deleting edge (2127048411, 1942910215)\n",
      "Deleting edge (2030811966, 2113651538)\n",
      "Deleting edge (193851967, 2099939455)\n",
      "Deleting edge (2072128103, 2025768430)\n",
      "Deleting edge (2097308346, 1511160855)\n",
      "Deleting edge (2613634265, 2110798204)\n",
      "Deleting edge (2098873466, 1942910215)\n",
      "Deleting edge (2127048411, 2098873466)\n",
      "Deleting edge (2614634292, 2163922914)\n",
      "Deleting edge (2091202730, 2019009079)\n",
      "Deleting edge (2163922914, 2106439909)\n",
      "Deleting edge (2127048411, 2155369095)\n",
      "Deleting edge (2121647436, 2177287823)\n",
      "Deleting edge (2726858191, 2146591355)\n",
      "Deleting edge (2127048411, 2146591355)\n",
      "Deleting edge (1806891645, 2616180702)\n",
      "Deleting edge (2137253512, 2136693028)\n",
      "Deleting edge (2110620844, 2127048411)\n",
      "Deleting edge (2152971731, 1970871468)\n",
      "Deleting edge (2111002549, 2146591355)\n",
      "Deleting edge (2109715166, 2057885377)\n",
      "Deleting edge (2163922914, 1811734137)\n",
      "Deleting edge (2099206369, 2138180870)\n",
      "Deleting edge (2146672645, 2124486835)\n",
      "Deleting edge (2000560314, 2118608338)\n",
      "Deleting edge (2066459332, 2144799688)\n",
      "Deleting edge (1525961042, 1793121960)\n",
      "Deleting edge (2069153192, 2117831564)\n",
      "Deleting edge (1967022297, 2127048411)\n",
      "Deleting edge (2145038566, 2159291644)\n",
      "Deleting edge (2163922914, 2013035813)\n",
      "Deleting edge (2156740722, 2116825644)\n",
      "Deleting edge (2141599568, 1614298861)\n",
      "Deleting edge (2022704179, 2139694940)\n",
      "Deleting edge (2107569009, 1996816151)\n",
      "Deleting edge (2008209917, 2127048411)\n",
      "Deleting edge (2072128103, 2168345951)\n",
      "Deleting edge (1996816151, 2140536181)\n",
      "Deleting edge (2008209917, 1942910215)\n",
      "Deleting edge (2137253512, 2605441573)\n",
      "Deleting edge (2069153192, 2170344111)\n",
      "Deleting edge (2137253512, 2101705355)\n",
      "Deleting edge (2072128103, 2296073425)\n",
      "Deleting edge (2127048411, 2149274953)\n",
      "Deleting edge (2250968750, 2152722485)\n",
      "==========\n",
      "MPA (SPC) RESULTS:\n",
      "node2vec scalable feature learning for networks (2016)\n",
      "- 47981516 -> a large scale evaluation of computational protein function prediction (2013)\n",
      "- 9726880 -> analysis of protein function and its prediction from amino acid sequence (2011)\n",
      "- 4728639 -> annotation error in public databases misannotation of molecular function in enzyme superfamilies (2009)\n",
      "- 23327730 -> protein function prediction the power of multiplicity (2009)\n",
      "- 37266360 -> network based prediction of protein function (2007)\n",
      "- 45492255 -> cfinder locating cliques and overlapping modules in biological networks (2006)\n",
      "- 0 -> cytoscape a software environment for integrated models of biomolecular interaction networks (2003)\n",
      "==========\n",
      "MPA (BETWEENNESS) RESULTS:\n",
      "node2vec scalable feature learning for networks (2016)\n",
      "- 4155.49329748 -> community detection in graphs (2010)\n",
      "- 24965.2016564 -> microscopic evolution of social networks (2008)\n",
      "- 44896.5005263 -> relational learning via latent social dimensions (2009)\n",
      "- 12906.4597495 -> using ghost edges for classification in sparsely labeled networks (2008)\n",
      "- 8813.23553912 -> semi supervised learning literature survey (2006)\n",
      "- 21276.6831037 -> self taught learning transfer learning from unlabeled data (2007)\n",
      "- 30048.9324647 -> reducing the dimensionality of data with neural networks (2006)\n",
      "- 43581.5387659 -> a fast learning algorithm for deep belief nets (2006)\n",
      "- 78650.0718401 -> justifying and generalizing contrastive divergence (2009)\n",
      "- 42019.0563853 -> semantic hashing (2009)\n",
      "- 63155.3350059 -> rcv1 a new benchmark collection for text categorization research (2004)\n",
      "- 72617.1894949 -> machine learning in automated text categorization (2002)\n",
      "- 13863.4563503 -> enhanced hypertext categorization using hyperlinks (1998)\n",
      "- 1791.00104683 -> on the foundations of relaxation labeling processes (1987)\n",
      "- 236.487409082 -> relaxation and constrained optimization by local processes (1979)\n",
      "==========\n",
      "PAGERANK RESULTS:\n",
      "node2vec scalable feature learning for networks (2016)\n",
      "- 0.000176844318395 -> nonlinear dimensionality reduction by locally linear embedding (2000)\n",
      "- 9.17855629263e-05 -> dimension reduction by local principal component analysis (1997)\n",
      "- 7.8318800014e-05 -> replicator neural networks for universal optimal source coding (1995)\n",
      "- 8.34519102446e-05 -> the wake sleep algorithm for unsupervised neural networks (1995)\n",
      "==========\n",
      "NODE BETWEENNESS RESULTS:\n",
      "node2vec scalable feature learning for networks (2016)\n",
      "- 113780.167418 -> community detection in graphs (2010)\n",
      "- 140122.9357 -> the structure and function of complex networks (2003)\n",
      "- 74499.6763066 -> statistical mechanics of complex networks (2001)\n",
      "- 46005.6517434 -> clustering and preferential attachment in growing networks (2001)\n",
      "- 68878.8318785 -> the structure of scientific collaboration networks (2001)\n",
      "- 62766.8497797 -> structural cohesion and embeddedness a hierarchical concept of social groups (2003)\n",
      "- 9787.51053212 -> models of core periphery structures (2000)\n",
      "- 2922.53331177 -> optimization by simulated annealing (1983)\n",
      "- 1350.0 -> solvable model of a spin glass (1975)\n",
      "- 0.0 -> photon cross sections attenuation coefficients and energy absorption coefficients from 10 kev to 100 gev (1969)\n"
     ]
    }
   ],
   "source": [
    "compare_results(2366141641, 3, True, False)"
   ]
  },
  {
   "cell_type": "markdown",
   "metadata": {},
   "source": [
    "### Values Are a Good Thing in Conservation Biology"
   ]
  },
  {
   "cell_type": "code",
   "execution_count": 74,
   "metadata": {
    "scrolled": true
   },
   "outputs": [
    {
     "name": "stdout",
     "output_type": "stream",
     "text": [
      "{\"sourcePaperID\":2052309590,\"numberBFSLevels\":2,\"followedOutLinks\":true,\"followedInLinks\":false,\"outputEdgeList\":\"2052309590.txt\",\"numFoundEdges\":171,\"numFoundNodes\":164}\n",
      "==========\n",
      "MPA (SPC) RESULTS:\n",
      "values are a good thing in conservation biology (2007)\n",
      "- 147 -> ecology values and objectivity advancing the debate (2005)\n",
      "- 109 -> beyond biology toward a more public ecology for conservation (2001)\n",
      "- 2 -> a science for survival values and conservation biology (1996)\n",
      "==========\n",
      "MPA (BETWEENNESS) RESULTS:\n",
      "values are a good thing in conservation biology (2007)\n",
      "- 108.0 -> beyond biology toward a more public ecology for conservation (2001)\n",
      "- 3.0 -> the idea of biodiversity philosophies of paradise (1996)\n",
      "==========\n",
      "PAGERANK RESULTS:\n",
      "values are a good thing in conservation biology (2007)\n",
      "- 0.00690275328587 -> beyond biology toward a more public ecology for conservation (2001)\n",
      "- 0.0063062921404 -> compass and gyroscope integrating science and politics for the environment (1993)\n",
      "==========\n",
      "NODE BETWEENNESS RESULTS:\n",
      "values are a good thing in conservation biology (2007)\n",
      "- 106.25 -> beyond biology toward a more public ecology for conservation (2001)\n",
      "- 0.0 -> a science for survival values and conservation biology (1996)\n"
     ]
    }
   ],
   "source": [
    "compare_results(2052309590, 2, True, False)"
   ]
  },
  {
   "cell_type": "code",
   "execution_count": 20,
   "metadata": {
    "scrolled": true
   },
   "outputs": [
    {
     "name": "stdout",
     "output_type": "stream",
     "text": [
      "{\"sourcePaperID\":2052309590,\"numberBFSLevels\":2,\"followedOutLinks\":true,\"followedInLinks\":true,\"outputEdgeList\":\"2052309590.txt\",\"numFoundEdges\":6430,\"numFoundNodes\":5696}\n",
      "Deleting edge (1852641894, 1518046545)\n",
      "==========\n",
      "MPA (SPC) RESULTS:\n",
      "values are a good thing in conservation biology (2007)\n",
      "- 436020 -> ecology values and objectivity advancing the debate (2005)\n",
      "- 217910 -> beyond biology toward a more public ecology for conservation (2001)\n",
      "- 11950 -> a science for survival values and conservation biology (1996)\n",
      "- 8467 -> a sand county almanac (1949)\n",
      "==========\n",
      "MPA (BETWEENNESS) RESULTS:\n",
      "values are a good thing in conservation biology (2007)\n",
      "- 55617.7424603 -> beyond biology toward a more public ecology for conservation (2001)\n",
      "- 802.83452381 -> the appearance of ecological systems as a matter of policy (1992)\n",
      "- 22.8345238095 -> a sand county almanac (1949)\n",
      "==========\n",
      "PAGERANK RESULTS:\n",
      "values are a good thing in conservation biology (2007)\n",
      "- 0.17837260614 -> a sand county almanac (1949)\n",
      "==========\n",
      "NODE BETWEENNESS RESULTS:\n",
      "values are a good thing in conservation biology (2007)\n",
      "- 41552.4853175 -> beyond biology toward a more public ecology for conservation (2001)\n",
      "- 144.720238095 -> a science for survival values and conservation biology (1996)\n",
      "- 0.0 -> a sand county almanac (1949)\n"
     ]
    }
   ],
   "source": [
    "compare_results(2052309590, 2, True, True)"
   ]
  },
  {
   "cell_type": "code",
   "execution_count": 21,
   "metadata": {
    "scrolled": true
   },
   "outputs": [
    {
     "name": "stdout",
     "output_type": "stream",
     "text": [
      "{\"sourcePaperID\":2052309590,\"numberBFSLevels\":3,\"followedOutLinks\":true,\"followedInLinks\":false,\"outputEdgeList\":\"2052309590.txt\",\"numFoundEdges\":3460,\"numFoundNodes\":3065}\n",
      "Deleting edge (2265645172, 2175653249)\n",
      "==========\n",
      "MPA (SPC) RESULTS:\n",
      "values are a good thing in conservation biology (2007)\n",
      "- 17023 -> ecology values and objectivity advancing the debate (2005)\n",
      "- 7346 -> implications of current ecological thinking for biodiversity conservation a review of the salient issues (2005)\n",
      "- 6414 -> beyond biology toward a more public ecology for conservation (2001)\n",
      "- 4185 -> the natural imperative for biological conservation (2000)\n",
      "- 1824 -> current normative concepts in conservation (1999)\n",
      "- 2197 -> cross scale morphology geometry and dynamics of ecosystems (1992)\n",
      "- 704 -> large scale management experiments and learning by doing (1990)\n",
      "- 35 -> adaptive environmental assessment and management (1978)\n",
      "==========\n",
      "MPA (BETWEENNESS) RESULTS:\n",
      "values are a good thing in conservation biology (2007)\n",
      "- 2175.56904762 -> beyond biology toward a more public ecology for conservation (2001)\n",
      "- 2338.5 -> classification of natural communities (1977)\n",
      "- 5.0 -> deciduous forest climaxes (1938)\n",
      "==========\n",
      "PAGERANK RESULTS:\n",
      "values are a good thing in conservation biology (2007)\n",
      "- 0.000425300841243 -> the obligations of a biologist (1989)\n",
      "==========\n",
      "NODE BETWEENNESS RESULTS:\n",
      "values are a good thing in conservation biology (2007)\n",
      "- 2934.01785714 -> beyond biology toward a more public ecology for conservation (2001)\n",
      "- 1167.25 -> classification of natural communities (1977)\n",
      "- 0.0 -> the individualistic concept of the plant association (1926)\n"
     ]
    }
   ],
   "source": [
    "compare_results(2052309590, 3, True, False)"
   ]
  },
  {
   "cell_type": "code",
   "execution_count": 22,
   "metadata": {
    "scrolled": true
   },
   "outputs": [
    {
     "name": "stdout",
     "output_type": "stream",
     "text": [
      "{\"sourcePaperID\":2052309590,\"numberBFSLevels\":4,\"followedOutLinks\":true,\"followedInLinks\":false,\"outputEdgeList\":\"2052309590.txt\",\"numFoundEdges\":40097,\"numFoundNodes\":28836}\n",
      "Deleting edge (2160225296, 2164018692)\n",
      "Deleting edge (2057142259, 1983158799)\n",
      "Deleting edge (2164018692, 2098341261)\n",
      "Deleting edge (2265645172, 2175653249)\n",
      "Deleting edge (2010394253, 1964556100)\n",
      "Deleting edge (2164018692, 2121969791)\n",
      "Deleting edge (1968468300, 2066187816)\n",
      "Deleting edge (2010394253, 1992658889)\n",
      "Deleting edge (1979909894, 2017380944)\n",
      "Deleting edge (2126101898, 2147096043)\n",
      "Deleting edge (2041409839, 2132443331)\n",
      "Deleting edge (2109580099, 2036038071)\n",
      "Deleting edge (1501126627, 2165702945)\n",
      "Deleting edge (1992658889, 1964556100)\n",
      "==========\n",
      "MPA (SPC) RESULTS:\n",
      "values are a good thing in conservation biology (2007)\n",
      "- 44977971 -> beyond biology toward a more public ecology for conservation (2001)\n",
      "- 45889377 -> the natural imperative for biological conservation (2000)\n",
      "- 18308838 -> current normative concepts in conservation (1999)\n",
      "- 15410192 -> ecological sustainability as a conservation concept (1997)\n",
      "- 9350704 -> biological integrity versus biological diversity as policy directivesprotecting biotic resources (1994)\n",
      "- 12242100 -> the problem of pattern and scale in ecology (1992)\n",
      "- 0 -> the maintenance of species richness in plant communities the importance of the regeneration niche (1977)\n",
      "==========\n",
      "MPA (BETWEENNESS) RESULTS:\n",
      "values are a good thing in conservation biology (2007)\n",
      "- 18525.7582946 -> beyond biology toward a more public ecology for conservation (2001)\n",
      "- 8159.73013376 -> sorting things out classification and its consequences (1999)\n",
      "- 460.541666667 -> indexing and access for digital libraries and the internet human database and domain factors (1998)\n",
      "- 6.0 -> interactive thesaurus navigation intelligence rules ok (1995)\n",
      "==========\n",
      "PAGERANK RESULTS:\n",
      "values are a good thing in conservation biology (2007)\n",
      "- 4.93772543793e-05 -> a sand county almanac (1949)\n",
      "==========\n",
      "NODE BETWEENNESS RESULTS:\n",
      "values are a good thing in conservation biology (2007)\n",
      "- 21330.479843 -> beyond biology toward a more public ecology for conservation (2001)\n",
      "- 113563.625417 -> classification of natural communities (1977)\n",
      "- 30595.5541569 -> vegetation of the siskiyou mountains oregon and california (1960)\n",
      "- 16255.4226291 -> vegetation of the great smoky mountains (1956)\n",
      "- 5097.5027782 -> plant associations on land (1939)\n",
      "- 4488.47295009 -> some recent publications on phytogeography in scandinavia (1937)\n",
      "- 2013.40503279 -> the present status of the plant association (1935)\n",
      "- 1666.38606116 -> succession development the climax and the complex organism an analysis of concepts part i (1934)\n",
      "- 1027.22098665 -> the fundamental units of vegetation (1910)\n",
      "- 0.0 -> research methods in ecology (1905)\n"
     ]
    }
   ],
   "source": [
    "compare_results(2052309590, 4, True, False)"
   ]
  },
  {
   "cell_type": "markdown",
   "metadata": {},
   "source": [
    "### Network Embedding as Matrix Factorization: Unifying DeepWalk, LINE, PTE, and node2vec"
   ]
  },
  {
   "cell_type": "code",
   "execution_count": null,
   "metadata": {
    "scrolled": true
   },
   "outputs": [],
   "source": [
    "compare_results(2761896323, 2, True, False)"
   ]
  },
  {
   "cell_type": "code",
   "execution_count": null,
   "metadata": {
    "scrolled": true
   },
   "outputs": [],
   "source": [
    "compare_results(2761896323, 2, True, True)"
   ]
  },
  {
   "cell_type": "code",
   "execution_count": null,
   "metadata": {
    "scrolled": true
   },
   "outputs": [],
   "source": [
    "compare_results(2761896323, 3, True, False)"
   ]
  }
 ],
 "metadata": {
  "kernelspec": {
   "display_name": "Python 2",
   "language": "python",
   "name": "python2"
  },
  "language_info": {
   "codemirror_mode": {
    "name": "ipython",
    "version": 2
   },
   "file_extension": ".py",
   "mimetype": "text/x-python",
   "name": "python",
   "nbconvert_exporter": "python",
   "pygments_lexer": "ipython2",
   "version": "2.7.13"
  }
 },
 "nbformat": 4,
 "nbformat_minor": 2
}
