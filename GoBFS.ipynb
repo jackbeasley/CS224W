{
 "cells": [
  {
   "cell_type": "code",
   "execution_count": 12,
   "metadata": {},
   "outputs": [],
   "source": [
    "import snap\n",
    "import subprocess"
   ]
  },
  {
   "cell_type": "code",
   "execution_count": 27,
   "metadata": {},
   "outputs": [],
   "source": [
    "def get_bfs_graph(paper_id, levels, follow_out, follow_in):\n",
    "    cmd = [\"go\", \"run\", \"bfs.go\"]\n",
    "    if follow_out:\n",
    "        cmd.append('-out')\n",
    "    if follow_in:\n",
    "        cmd.append('-in')\n",
    "    cmd += ['-levels', str(levels)]\n",
    "    cmd.append(str(paper_id))\n",
    "    p = subprocess.Popen(cmd, stdout=subprocess.PIPE, stderr=subprocess.STDOUT)\n",
    "    for line in iter(p.stdout.readline, ''):\n",
    "        print line\n",
    "    p.stdout.close()\n",
    "    return snap.LoadEdgeList(snap.PNGraph, \"{}.txt\".format(paper_id), 0, 1)"
   ]
  },
  {
   "cell_type": "code",
   "execution_count": 28,
   "metadata": {},
   "outputs": [
    {
     "name": "stdout",
     "output_type": "stream",
     "text": [
      "Starting from 252001 and searcher for 3 levels (follow out: true, follow in: false)\n",
      "\n",
      "Found 312 nodes, 337 edges and output edge list to 252001.txt\n"
     ]
    }
   ],
   "source": [
    "G = get_bfs_graph(252001, 3, True, False)"
   ]
  },
  {
   "cell_type": "code",
   "execution_count": 15,
   "metadata": {},
   "outputs": [
    {
     "data": {
      "text/plain": [
       "11443"
      ]
     },
     "execution_count": 15,
     "metadata": {},
     "output_type": "execute_result"
    }
   ],
   "source": [
    "G.GetEdges()"
   ]
  },
  {
   "cell_type": "code",
   "execution_count": 16,
   "metadata": {},
   "outputs": [
    {
     "data": {
      "text/plain": [
       "6591"
      ]
     },
     "execution_count": 16,
     "metadata": {},
     "output_type": "execute_result"
    }
   ],
   "source": [
    "G.GetNodes()"
   ]
  }
 ],
 "metadata": {
  "kernelspec": {
   "display_name": "Python 2",
   "language": "python",
   "name": "python2"
  },
  "language_info": {
   "codemirror_mode": {
    "name": "ipython",
    "version": 2
   },
   "file_extension": ".py",
   "mimetype": "text/x-python",
   "name": "python",
   "nbconvert_exporter": "python",
   "pygments_lexer": "ipython2",
   "version": "2.7.15"
  }
 },
 "nbformat": 4,
 "nbformat_minor": 2
}
